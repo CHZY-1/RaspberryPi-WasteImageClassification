{
 "cells": [
  {
   "cell_type": "code",
   "execution_count": 10,
   "metadata": {},
   "outputs": [],
   "source": [
    "from keras.models import Sequential\n",
    "from keras.layers import GlobalAveragePooling2D, Dense, Lambda\n",
    "import keras.applications.mobilenet_v2 as mobilenetv2\n",
    "from tensorflow.keras.optimizers import Adam\n",
    "import tensorflow as tf"
   ]
  },
  {
   "cell_type": "code",
   "execution_count": 11,
   "metadata": {},
   "outputs": [],
   "source": [
    "# Load MobileNetV2 base model without the top layer\n",
    "mobilenetv2_layer = mobilenetv2.MobileNetV2(include_top=False, \n",
    "                                            input_shape=(224, 224, 3),\n",
    "                                            weights='../mobilenet-v2-keras-weights/mobilenet_v2_weights_tf_dim_ordering_tf_kernels_1.0_224_no_top.h5')\n",
    "\n",
    "mobilenetv2_layer.trainable = False"
   ]
  },
  {
   "cell_type": "code",
   "execution_count": 12,
   "metadata": {},
   "outputs": [
    {
     "name": "stdout",
     "output_type": "stream",
     "text": [
      "Model: \"sequential_1\"\n",
      "_________________________________________________________________\n",
      " Layer (type)                Output Shape              Param #   \n",
      "=================================================================\n",
      " lambda_1 (Lambda)           (None, 224, 224, 3)       0         \n",
      "                                                                 \n",
      " mobilenetv2_1.00_224 (Funct  (None, 7, 7, 1280)       2257984   \n",
      " ional)                                                          \n",
      "                                                                 \n",
      " global_average_pooling2d_1   (None, 1280)             0         \n",
      " (GlobalAveragePooling2D)                                        \n",
      "                                                                 \n",
      " dense_1 (Dense)             (None, 2)                 2562      \n",
      "                                                                 \n",
      "=================================================================\n",
      "Total params: 2,260,546\n",
      "Trainable params: 2,562\n",
      "Non-trainable params: 2,257,984\n",
      "_________________________________________________________________\n"
     ]
    }
   ],
   "source": [
    "# Create the model architecture\n",
    "model = Sequential()\n",
    "# Input layer\n",
    "model.add(tf.keras.Input(shape=(224, 224, 3)))\n",
    "\n",
    "# Lambda preprocessing layer\n",
    "def mobilenetv2_preprocessing(img):\n",
    "    return mobilenetv2.preprocess_input(img)\n",
    "\n",
    "model.add(Lambda(mobilenetv2_preprocessing))\n",
    "\n",
    "model.add(mobilenetv2_layer)\n",
    "\n",
    "# Add the GlobalAveragePooling2D layer\n",
    "model.add(GlobalAveragePooling2D())\n",
    "\n",
    "# Update the Dense layer for 2 classes\n",
    "model.add(Dense(2, activation='softmax'))\n",
    "\n",
    "# Compile the model with a lower learning rate for fine-tuning\n",
    "model.compile(loss='categorical_crossentropy', optimizer=Adam(learning_rate=1e-4), metrics=['categorical_accuracy'])\n",
    "\n",
    "# Print the updated model summary\n",
    "model.summary()"
   ]
  },
  {
   "cell_type": "code",
   "execution_count": 13,
   "metadata": {},
   "outputs": [],
   "source": [
    "from keras.preprocessing.image import ImageDataGenerator\n",
    "from keras.callbacks import EarlyStopping, ReduceLROnPlateau"
   ]
  },
  {
   "cell_type": "code",
   "execution_count": 14,
   "metadata": {},
   "outputs": [],
   "source": [
    "# train_dir = '../../trainingData/'\n",
    "train_dir = 'trainingData/'"
   ]
  },
  {
   "cell_type": "code",
   "execution_count": 16,
   "metadata": {},
   "outputs": [
    {
     "name": "stdout",
     "output_type": "stream",
     "text": [
      "Found 324 images belonging to 2 classes.\n",
      "Found 36 images belonging to 2 classes.\n",
      "Class Indices: {'metal': 0, 'plastic': 1}\n"
     ]
    }
   ],
   "source": [
    "# Create an ImageDataGenerator with data augmentation and rescaling\n",
    "train_datagen = ImageDataGenerator(\n",
    "    rescale=1./255,\n",
    "    zoom_range=0.1,\n",
    "    rotation_range=15,\n",
    "    brightness_range=[0.8, 1.2],\n",
    "    horizontal_flip=True,\n",
    "    # vertical_flip=True,\n",
    "    validation_split=0.1\n",
    ")\n",
    "\n",
    "# Load training data with flow_from_directory\n",
    "train_generator = train_datagen.flow_from_directory(\n",
    "    train_dir,\n",
    "    target_size=(224, 224),      # Resizes images to 224x224\n",
    "    batch_size=16,               # Number of images per batch\n",
    "    class_mode='categorical', \n",
    "    subset='training'\n",
    ")\n",
    "\n",
    "# Load validation data\n",
    "validation_generator = train_datagen.flow_from_directory(\n",
    "    train_dir,\n",
    "    target_size=(224, 224),\n",
    "    batch_size=16,\n",
    "    class_mode='categorical',\n",
    "    subset='validation'\n",
    ")\n",
    "\n",
    "# Print class indices to verify the labels\n",
    "print(f\"Class Indices: {train_generator.class_indices}\")"
   ]
  },
  {
   "cell_type": "code",
   "execution_count": 17,
   "metadata": {},
   "outputs": [],
   "source": [
    "class_weights = {0: 1.0, 1: 1.0}"
   ]
  },
  {
   "cell_type": "code",
   "execution_count": 18,
   "metadata": {},
   "outputs": [],
   "source": [
    "early_stop = EarlyStopping(\n",
    "    monitor='val_loss',  # Monitor validation loss\n",
    "    patience=3,          # Stop after 5 epochs of no improvement\n",
    "    restore_best_weights=True  # Restore the best weights\n",
    ")"
   ]
  },
  {
   "cell_type": "code",
   "execution_count": 19,
   "metadata": {},
   "outputs": [],
   "source": [
    "reduce_lr = ReduceLROnPlateau(monitor='val_loss', factor=0.2, patience=3, min_lr=1e-6)"
   ]
  },
  {
   "cell_type": "code",
   "execution_count": 20,
   "metadata": {},
   "outputs": [
    {
     "name": "stdout",
     "output_type": "stream",
     "text": [
      "Epoch 1/8\n",
      "20/20 [==============================] - 7s 254ms/step - loss: 1.0754 - categorical_accuracy: 0.4935 - val_loss: 0.8377 - val_categorical_accuracy: 0.5000 - lr: 1.0000e-04\n",
      "Epoch 2/8\n",
      "20/20 [==============================] - 4s 221ms/step - loss: 0.7483 - categorical_accuracy: 0.4903 - val_loss: 0.6955 - val_categorical_accuracy: 0.5000 - lr: 1.0000e-04\n",
      "Epoch 3/8\n",
      "20/20 [==============================] - 4s 214ms/step - loss: 0.6967 - categorical_accuracy: 0.4838 - val_loss: 0.6934 - val_categorical_accuracy: 0.5000 - lr: 1.0000e-04\n",
      "Epoch 4/8\n",
      "20/20 [==============================] - 4s 212ms/step - loss: 0.6959 - categorical_accuracy: 0.4545 - val_loss: 0.6960 - val_categorical_accuracy: 0.5000 - lr: 1.0000e-04\n",
      "Epoch 5/8\n",
      "20/20 [==============================] - 4s 210ms/step - loss: 0.6936 - categorical_accuracy: 0.5065 - val_loss: 0.6915 - val_categorical_accuracy: 0.5938 - lr: 1.0000e-04\n",
      "Epoch 6/8\n",
      "20/20 [==============================] - 4s 212ms/step - loss: 0.6921 - categorical_accuracy: 0.5065 - val_loss: 0.6957 - val_categorical_accuracy: 0.4062 - lr: 1.0000e-04\n",
      "Epoch 7/8\n",
      "20/20 [==============================] - 4s 227ms/step - loss: 0.6926 - categorical_accuracy: 0.5130 - val_loss: 0.6891 - val_categorical_accuracy: 0.4688 - lr: 1.0000e-04\n",
      "Epoch 8/8\n",
      "20/20 [==============================] - 5s 248ms/step - loss: 0.6941 - categorical_accuracy: 0.4870 - val_loss: 0.6937 - val_categorical_accuracy: 0.4688 - lr: 1.0000e-04\n"
     ]
    }
   ],
   "source": [
    "# Fine-tune the model on the new data\n",
    "history = model.fit(\n",
    "    train_generator,\n",
    "    steps_per_epoch=train_generator.samples // train_generator.batch_size,\n",
    "    validation_data=validation_generator,\n",
    "    validation_steps=validation_generator.samples // validation_generator.batch_size,\n",
    "    callbacks=[early_stop, reduce_lr],\n",
    "    class_weight=class_weights,\n",
    "    epochs=8\n",
    ")"
   ]
  },
  {
   "cell_type": "code",
   "execution_count": 65,
   "metadata": {},
   "outputs": [
    {
     "name": "stdout",
     "output_type": "stream",
     "text": [
      "13/13 [==============================] - 2s 140ms/step - loss: 0.1751 - categorical_accuracy: 0.9798\n",
      "Validation Loss: 0.17507001757621765, Validation Accuracy: 0.9797979593276978\n"
     ]
    }
   ],
   "source": [
    "# Evaluate the model\n",
    "loss, accuracy = model.evaluate(validation_generator)\n",
    "print(f\"Validation Loss: {loss}, Validation Accuracy: {accuracy}\")\n",
    "\n",
    "# Save the fine-tuned model\n",
    "model.save('fine_tuned_plastic_metal_model.h5')"
   ]
  },
  {
   "cell_type": "markdown",
   "metadata": {},
   "source": [
    "### Inference"
   ]
  },
  {
   "cell_type": "code",
   "execution_count": 21,
   "metadata": {},
   "outputs": [],
   "source": [
    "from tensorflow.keras.models import load_model\n",
    "import numpy as np\n",
    "from tensorflow.keras.preprocessing import image\n",
    "\n",
    "# Load the fine-tuned model\n",
    "model = load_model('fine_tuned_plastic_metal_model.h5')"
   ]
  },
  {
   "cell_type": "code",
   "execution_count": 28,
   "metadata": {},
   "outputs": [],
   "source": [
    "# img_path = '../sample_data/metal_coke.jpg'\n",
    "# img_path = '../sample_data/plastic_bottle_partial.jpg'\n",
    "# img_path = 'trainingData/metal/image_20240922_040431_4.jpg'\n",
    "# img_path = 'trainingData/metal/image_20240922_034123_3.jpg'\n",
    "# img_path = 'trainingData/plastic/image_20240922_023123_10.jpg'\n",
    "img_path = 'trainingData/plastic/image_20240922_031110_3.jpg'\n",
    "img = image.load_img(img_path, target_size=(224, 224))\n",
    "img_array = image.img_to_array(img)\n",
    "img_array = np.expand_dims(img_array, axis=0)\n",
    "img_array = mobilenetv2.preprocess_input(img_array)"
   ]
  },
  {
   "cell_type": "code",
   "execution_count": 29,
   "metadata": {},
   "outputs": [
    {
     "name": "stdout",
     "output_type": "stream",
     "text": [
      "1/1 [==============================] - 0s 29ms/step\n",
      "[[0.75754875 0.24245124]]\n",
      "Predicted Class: metal\n"
     ]
    }
   ],
   "source": [
    "# Predict using the fine-tuned model\n",
    "predictions = model.predict(img_array)\n",
    "print(predictions)\n",
    "class_index = np.argmax(predictions, axis=1)\n",
    "\n",
    "# Map the predicted index to class label\n",
    "class_labels = ('metal', 'plastic')\n",
    "predicted_class = class_labels[class_index[0]]\n",
    "print(f'Predicted Class: {predicted_class}')"
   ]
  }
 ],
 "metadata": {
  "kernelspec": {
   "display_name": "image-processing",
   "language": "python",
   "name": "python3"
  },
  "language_info": {
   "codemirror_mode": {
    "name": "ipython",
    "version": 3
   },
   "file_extension": ".py",
   "mimetype": "text/x-python",
   "name": "python",
   "nbconvert_exporter": "python",
   "pygments_lexer": "ipython3",
   "version": "3.11.9"
  }
 },
 "nbformat": 4,
 "nbformat_minor": 2
}
