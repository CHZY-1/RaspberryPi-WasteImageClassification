{
 "cells": [
  {
   "cell_type": "code",
   "execution_count": 1,
   "metadata": {},
   "outputs": [],
   "source": [
    "from keras.models import Sequential\n",
    "from keras.layers import GlobalAveragePooling2D, Dense, Lambda\n",
    "import keras.applications.mobilenet_v2 as mobilenetv2\n",
    "from tensorflow.keras.optimizers import Adam\n",
    "import tensorflow as tf"
   ]
  },
  {
   "cell_type": "code",
   "execution_count": 2,
   "metadata": {},
   "outputs": [],
   "source": [
    "# Load MobileNetV2 base model without the top layer\n",
    "mobilenetv2_layer = mobilenetv2.MobileNetV2(include_top=False, \n",
    "                                            input_shape=(224, 224, 3),\n",
    "                                            weights='../mobilenet-v2-keras-weights/mobilenet_v2_weights_tf_dim_ordering_tf_kernels_1.0_224_no_top.h5')\n",
    "mobilenetv2_layer.trainable = False"
   ]
  },
  {
   "cell_type": "code",
   "execution_count": 3,
   "metadata": {},
   "outputs": [
    {
     "name": "stdout",
     "output_type": "stream",
     "text": [
      "Model: \"sequential\"\n",
      "_________________________________________________________________\n",
      " Layer (type)                Output Shape              Param #   \n",
      "=================================================================\n",
      " lambda (Lambda)             (None, 224, 224, 3)       0         \n",
      "                                                                 \n",
      " mobilenetv2_1.00_224 (Funct  (None, 7, 7, 1280)       2257984   \n",
      " ional)                                                          \n",
      "                                                                 \n",
      " global_average_pooling2d (G  (None, 1280)             0         \n",
      " lobalAveragePooling2D)                                          \n",
      "                                                                 \n",
      " dense (Dense)               (None, 2)                 2562      \n",
      "                                                                 \n",
      "=================================================================\n",
      "Total params: 2,260,546\n",
      "Trainable params: 2,562\n",
      "Non-trainable params: 2,257,984\n",
      "_________________________________________________________________\n"
     ]
    }
   ],
   "source": [
    "# Create the model architecture\n",
    "model = Sequential()\n",
    "# Input layer\n",
    "model.add(tf.keras.Input(shape=(224, 224, 3)))\n",
    "\n",
    "# Lambda preprocessing layer\n",
    "def mobilenetv2_preprocessing(img):\n",
    "    return mobilenetv2.preprocess_input(img)\n",
    "\n",
    "model.add(Lambda(mobilenetv2_preprocessing))\n",
    "\n",
    "model.add(mobilenetv2_layer)\n",
    "\n",
    "# Add the GlobalAveragePooling2D layer\n",
    "model.add(GlobalAveragePooling2D())\n",
    "\n",
    "# Update the Dense layer for 2 classes\n",
    "model.add(Dense(2, activation='softmax'))\n",
    "\n",
    "# Compile the model with a lower learning rate for fine-tuning\n",
    "model.compile(loss='categorical_crossentropy', optimizer=Adam(learning_rate=1e-4), metrics=['categorical_accuracy'])\n",
    "\n",
    "# Print the updated model summary\n",
    "model.summary()"
   ]
  },
  {
   "cell_type": "code",
   "execution_count": 4,
   "metadata": {},
   "outputs": [],
   "source": [
    "from keras.preprocessing.image import ImageDataGenerator"
   ]
  },
  {
   "cell_type": "code",
   "execution_count": 5,
   "metadata": {},
   "outputs": [],
   "source": [
    "train_dir = 'trainingData/'"
   ]
  },
  {
   "cell_type": "code",
   "execution_count": 6,
   "metadata": {},
   "outputs": [
    {
     "name": "stdout",
     "output_type": "stream",
     "text": [
      "Found 288 images belonging to 2 classes.\n",
      "Found 72 images belonging to 2 classes.\n",
      "Class Indices: {'metal': 0, 'plastic': 1}\n"
     ]
    }
   ],
   "source": [
    "# Create an ImageDataGenerator with data augmentation and rescaling\n",
    "train_datagen = ImageDataGenerator(\n",
    "    rescale=1./255,              # Normalize pixel values between 0 and 1\n",
    "    shear_range=0.2,             # Randomly apply shear transformations\n",
    "    zoom_range=0.2,              # Randomly zoom into images\n",
    "    horizontal_flip=True,        # Randomly flip images horizontally\n",
    "    validation_split=0.2         # Split 20% of the data for validation\n",
    ")\n",
    "\n",
    "# Load training data with flow_from_directory\n",
    "train_generator = train_datagen.flow_from_directory(\n",
    "    train_dir,\n",
    "    target_size=(224, 224),      # Resizes images to 224x224\n",
    "    batch_size=32,               # Number of images per batch\n",
    "    class_mode='categorical',    # Since we have two classes: metal and plastic\n",
    "    subset='training'            # Use the 'training' subset\n",
    ")\n",
    "\n",
    "# Load validation data\n",
    "validation_generator = train_datagen.flow_from_directory(\n",
    "    train_dir,\n",
    "    target_size=(224, 224),\n",
    "    batch_size=32,\n",
    "    class_mode='categorical',\n",
    "    subset='validation'          # Use the 'validation' subset\n",
    ")\n",
    "\n",
    "# Print class indices to verify the labels\n",
    "print(f\"Class Indices: {train_generator.class_indices}\")"
   ]
  },
  {
   "cell_type": "code",
   "execution_count": 7,
   "metadata": {},
   "outputs": [
    {
     "name": "stdout",
     "output_type": "stream",
     "text": [
      "Epoch 1/10\n",
      "9/9 [==============================] - 7s 602ms/step - loss: 0.7265 - categorical_accuracy: 0.5000 - val_loss: 0.6942 - val_categorical_accuracy: 0.5312\n",
      "Epoch 2/10\n",
      "9/9 [==============================] - 4s 476ms/step - loss: 0.6989 - categorical_accuracy: 0.4757 - val_loss: 0.6997 - val_categorical_accuracy: 0.4531\n",
      "Epoch 3/10\n",
      "9/9 [==============================] - 4s 472ms/step - loss: 0.6939 - categorical_accuracy: 0.5000 - val_loss: 0.6968 - val_categorical_accuracy: 0.4688\n",
      "Epoch 4/10\n",
      "9/9 [==============================] - 4s 468ms/step - loss: 0.6945 - categorical_accuracy: 0.4965 - val_loss: 0.6899 - val_categorical_accuracy: 0.5156\n",
      "Epoch 5/10\n",
      "9/9 [==============================] - 4s 467ms/step - loss: 0.6921 - categorical_accuracy: 0.5312 - val_loss: 0.6923 - val_categorical_accuracy: 0.5156\n",
      "Epoch 6/10\n",
      "9/9 [==============================] - 4s 467ms/step - loss: 0.6909 - categorical_accuracy: 0.5417 - val_loss: 0.6920 - val_categorical_accuracy: 0.5000\n",
      "Epoch 7/10\n",
      "9/9 [==============================] - 4s 461ms/step - loss: 0.6924 - categorical_accuracy: 0.4861 - val_loss: 0.6945 - val_categorical_accuracy: 0.4531\n",
      "Epoch 8/10\n",
      "9/9 [==============================] - 4s 469ms/step - loss: 0.6947 - categorical_accuracy: 0.5139 - val_loss: 0.6936 - val_categorical_accuracy: 0.5312\n",
      "Epoch 9/10\n",
      "9/9 [==============================] - 4s 470ms/step - loss: 0.6924 - categorical_accuracy: 0.5104 - val_loss: 0.6910 - val_categorical_accuracy: 0.5781\n",
      "Epoch 10/10\n",
      "9/9 [==============================] - 4s 470ms/step - loss: 0.6912 - categorical_accuracy: 0.5000 - val_loss: 0.6922 - val_categorical_accuracy: 0.4688\n"
     ]
    }
   ],
   "source": [
    "# Fine-tune the model on the new data\n",
    "history = model.fit(\n",
    "    train_generator,\n",
    "    steps_per_epoch=train_generator.samples // train_generator.batch_size,\n",
    "    validation_data=validation_generator,\n",
    "    validation_steps=validation_generator.samples // validation_generator.batch_size,\n",
    "    epochs=10\n",
    ")"
   ]
  },
  {
   "cell_type": "code",
   "execution_count": 8,
   "metadata": {},
   "outputs": [
    {
     "name": "stdout",
     "output_type": "stream",
     "text": [
      "3/3 [==============================] - 1s 227ms/step - loss: 0.6895 - categorical_accuracy: 0.5833\n",
      "Validation Loss: 0.6894851326942444, Validation Accuracy: 0.5833333134651184\n"
     ]
    }
   ],
   "source": [
    "# Evaluate the model\n",
    "loss, accuracy = model.evaluate(validation_generator)\n",
    "print(f\"Validation Loss: {loss}, Validation Accuracy: {accuracy}\")\n",
    "\n",
    "# Save the fine-tuned model\n",
    "model.save('fine_tuned_plastic_metal_model.h5')"
   ]
  },
  {
   "cell_type": "markdown",
   "metadata": {},
   "source": [
    "### Inference"
   ]
  },
  {
   "cell_type": "code",
   "execution_count": 9,
   "metadata": {},
   "outputs": [],
   "source": [
    "from tensorflow.keras.models import load_model\n",
    "import numpy as np\n",
    "from tensorflow.keras.preprocessing import image\n",
    "\n",
    "# Load the fine-tuned model\n",
    "model = load_model('fine_tuned_plastic_metal_model.h5')"
   ]
  },
  {
   "cell_type": "code",
   "execution_count": 10,
   "metadata": {},
   "outputs": [],
   "source": [
    "img_path = '../sample_data/plastic_bottle_out_of_shape.jpg'\n",
    "img = image.load_img(img_path, target_size=(224, 224))\n",
    "img_array = image.img_to_array(img)\n",
    "img_array = np.expand_dims(img_array, axis=0)\n",
    "img_array = mobilenetv2.preprocess_input(img_array)"
   ]
  },
  {
   "cell_type": "code",
   "execution_count": 11,
   "metadata": {},
   "outputs": [
    {
     "name": "stdout",
     "output_type": "stream",
     "text": [
      "1/1 [==============================] - 1s 532ms/step\n",
      "Predicted Class: plastic\n"
     ]
    }
   ],
   "source": [
    "# Predict using the fine-tuned model\n",
    "predictions = model.predict(img_array)\n",
    "class_index = np.argmax(predictions, axis=1)\n",
    "\n",
    "# Map the predicted index to class label\n",
    "class_labels = ['plastic', 'metal']\n",
    "predicted_class = class_labels[class_index[0]]\n",
    "print(f'Predicted Class: {predicted_class}')"
   ]
  }
 ],
 "metadata": {
  "kernelspec": {
   "display_name": "image-processing",
   "language": "python",
   "name": "python3"
  },
  "language_info": {
   "codemirror_mode": {
    "name": "ipython",
    "version": 3
   },
   "file_extension": ".py",
   "mimetype": "text/x-python",
   "name": "python",
   "nbconvert_exporter": "python",
   "pygments_lexer": "ipython3",
   "version": "3.11.9"
  }
 },
 "nbformat": 4,
 "nbformat_minor": 2
}
