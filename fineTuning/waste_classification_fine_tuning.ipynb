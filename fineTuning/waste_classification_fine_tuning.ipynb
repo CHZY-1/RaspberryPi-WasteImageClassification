{
 "cells": [
  {
   "cell_type": "code",
   "execution_count": 1,
   "metadata": {},
   "outputs": [],
   "source": [
    "from keras.models import Sequential\n",
    "from keras.layers import GlobalAveragePooling2D, Dense, Lambda\n",
    "import keras.applications.mobilenet_v2 as mobilenetv2\n",
    "from tensorflow.keras.optimizers import Adam\n",
    "import tensorflow as tf"
   ]
  },
  {
   "cell_type": "code",
   "execution_count": 2,
   "metadata": {},
   "outputs": [],
   "source": [
    "# Load MobileNetV2 base model without the top layer\n",
    "mobilenetv2_layer = mobilenetv2.MobileNetV2(include_top=False, \n",
    "                                            input_shape=(224, 224, 3),\n",
    "                                            weights='../mobilenet-v2-keras-weights/mobilenet_v2_weights_tf_dim_ordering_tf_kernels_1.0_224_no_top.h5')\n",
    "\n",
    "mobilenetv2_layer.trainable = False"
   ]
  },
  {
   "cell_type": "code",
   "execution_count": 3,
   "metadata": {},
   "outputs": [
    {
     "name": "stdout",
     "output_type": "stream",
     "text": [
      "Model: \"sequential\"\n",
      "_________________________________________________________________\n",
      " Layer (type)                Output Shape              Param #   \n",
      "=================================================================\n",
      " lambda (Lambda)             (None, 224, 224, 3)       0         \n",
      "                                                                 \n",
      " mobilenetv2_1.00_224 (Funct  (None, 7, 7, 1280)       2257984   \n",
      " ional)                                                          \n",
      "                                                                 \n",
      " global_average_pooling2d (G  (None, 1280)             0         \n",
      " lobalAveragePooling2D)                                          \n",
      "                                                                 \n",
      " dense (Dense)               (None, 2)                 2562      \n",
      "                                                                 \n",
      "=================================================================\n",
      "Total params: 2,260,546\n",
      "Trainable params: 2,562\n",
      "Non-trainable params: 2,257,984\n",
      "_________________________________________________________________\n"
     ]
    }
   ],
   "source": [
    "# Create the model architecture\n",
    "model = Sequential()\n",
    "# Input layer\n",
    "model.add(tf.keras.Input(shape=(224, 224, 3)))\n",
    "\n",
    "# Lambda preprocessing layer\n",
    "def mobilenetv2_preprocessing(img):\n",
    "    return mobilenetv2.preprocess_input(img)\n",
    "\n",
    "model.add(Lambda(mobilenetv2_preprocessing))\n",
    "\n",
    "model.add(mobilenetv2_layer)\n",
    "\n",
    "# Add the GlobalAveragePooling2D layer\n",
    "model.add(GlobalAveragePooling2D())\n",
    "\n",
    "# Update the Dense layer for 2 classes\n",
    "model.add(Dense(2, activation='softmax'))\n",
    "\n",
    "# Compile the model with a lower learning rate for fine-tuning\n",
    "model.compile(loss='categorical_crossentropy', optimizer=Adam(learning_rate=1e-4), metrics=['categorical_accuracy'])\n",
    "\n",
    "# Print the updated model summary\n",
    "model.summary()"
   ]
  },
  {
   "cell_type": "code",
   "execution_count": 4,
   "metadata": {},
   "outputs": [],
   "source": [
    "from keras.preprocessing.image import ImageDataGenerator\n",
    "from keras.callbacks import EarlyStopping"
   ]
  },
  {
   "cell_type": "code",
   "execution_count": 5,
   "metadata": {},
   "outputs": [],
   "source": [
    "# train_dir = '../../trainingData/'\n",
    "train_dir = 'trainingData/'"
   ]
  },
  {
   "cell_type": "code",
   "execution_count": 6,
   "metadata": {},
   "outputs": [
    {
     "name": "stdout",
     "output_type": "stream",
     "text": [
      "Found 324 images belonging to 2 classes.\n",
      "Found 36 images belonging to 2 classes.\n",
      "Class Indices: {'metal': 0, 'plastic': 1}\n"
     ]
    }
   ],
   "source": [
    "# Create an ImageDataGenerator with data augmentation and rescaling\n",
    "train_datagen = ImageDataGenerator(\n",
    "    # rescale=1./255,\n",
    "    # zoom_range=0.2,\n",
    "    # rotation_range=5,\n",
    "    # brightness_range=[0.9, 1.1],\n",
    "    # horizontal_flip=True,\n",
    "    # vertical_flip=True,\n",
    "    validation_split=0.1\n",
    ")\n",
    "\n",
    "# Load training data with flow_from_directory\n",
    "train_generator = train_datagen.flow_from_directory(\n",
    "    train_dir,\n",
    "    target_size=(224, 224),      # Resizes images to 224x224\n",
    "    batch_size=16,               # Number of images per batch\n",
    "    class_mode='categorical', \n",
    "    subset='training'\n",
    ")\n",
    "\n",
    "# Load validation data\n",
    "validation_generator = train_datagen.flow_from_directory(\n",
    "    train_dir,\n",
    "    target_size=(224, 224),\n",
    "    batch_size=16,\n",
    "    class_mode='categorical',\n",
    "    subset='validation'\n",
    ")\n",
    "\n",
    "# Print class indices to verify the labels\n",
    "print(f\"Class Indices: {train_generator.class_indices}\")"
   ]
  },
  {
   "cell_type": "code",
   "execution_count": 65,
   "metadata": {},
   "outputs": [],
   "source": [
    "class_weights = {0: 1.0, 1: 1.2}"
   ]
  },
  {
   "cell_type": "code",
   "execution_count": 7,
   "metadata": {},
   "outputs": [],
   "source": [
    "early_stop = EarlyStopping(\n",
    "    monitor='val_loss',  # Monitor validation loss\n",
    "    patience=5,          # Stop after 5 epochs of no improvement\n",
    "    restore_best_weights=True  # Restore the best weights\n",
    ")"
   ]
  },
  {
   "cell_type": "code",
   "execution_count": 8,
   "metadata": {},
   "outputs": [
    {
     "name": "stdout",
     "output_type": "stream",
     "text": [
      "Epoch 1/15\n",
      "20/20 [==============================] - 6s 202ms/step - loss: 0.6738 - categorical_accuracy: 0.6071 - val_loss: 0.4888 - val_categorical_accuracy: 0.8438\n",
      "Epoch 2/15\n",
      "20/20 [==============================] - 3s 167ms/step - loss: 0.5154 - categorical_accuracy: 0.7630 - val_loss: 0.3759 - val_categorical_accuracy: 0.9375\n",
      "Epoch 3/15\n",
      "20/20 [==============================] - 3s 158ms/step - loss: 0.4131 - categorical_accuracy: 0.8734 - val_loss: 0.2967 - val_categorical_accuracy: 0.9062\n",
      "Epoch 4/15\n",
      "20/20 [==============================] - 3s 157ms/step - loss: 0.3491 - categorical_accuracy: 0.9058 - val_loss: 0.2368 - val_categorical_accuracy: 0.9375\n",
      "Epoch 5/15\n",
      "20/20 [==============================] - 3s 161ms/step - loss: 0.2907 - categorical_accuracy: 0.9469 - val_loss: 0.2261 - val_categorical_accuracy: 0.9062\n",
      "Epoch 6/15\n",
      "20/20 [==============================] - 3s 156ms/step - loss: 0.2470 - categorical_accuracy: 0.9545 - val_loss: 0.1946 - val_categorical_accuracy: 0.9375\n",
      "Epoch 7/15\n",
      "20/20 [==============================] - 3s 162ms/step - loss: 0.2194 - categorical_accuracy: 0.9656 - val_loss: 0.1700 - val_categorical_accuracy: 0.9688\n",
      "Epoch 8/15\n",
      "20/20 [==============================] - 3s 160ms/step - loss: 0.1917 - categorical_accuracy: 0.9708 - val_loss: 0.1470 - val_categorical_accuracy: 1.0000\n",
      "Epoch 9/15\n",
      "20/20 [==============================] - 3s 161ms/step - loss: 0.1769 - categorical_accuracy: 0.9675 - val_loss: 0.1313 - val_categorical_accuracy: 1.0000\n",
      "Epoch 10/15\n",
      "20/20 [==============================] - 3s 160ms/step - loss: 0.1616 - categorical_accuracy: 0.9675 - val_loss: 0.1332 - val_categorical_accuracy: 1.0000\n",
      "Epoch 11/15\n",
      "20/20 [==============================] - 3s 158ms/step - loss: 0.1462 - categorical_accuracy: 0.9740 - val_loss: 0.1157 - val_categorical_accuracy: 1.0000\n",
      "Epoch 12/15\n",
      "20/20 [==============================] - 3s 158ms/step - loss: 0.1368 - categorical_accuracy: 0.9708 - val_loss: 0.1072 - val_categorical_accuracy: 1.0000\n",
      "Epoch 13/15\n",
      "20/20 [==============================] - 3s 155ms/step - loss: 0.1204 - categorical_accuracy: 0.9773 - val_loss: 0.1004 - val_categorical_accuracy: 1.0000\n",
      "Epoch 14/15\n",
      "20/20 [==============================] - 3s 155ms/step - loss: 0.1179 - categorical_accuracy: 0.9708 - val_loss: 0.0952 - val_categorical_accuracy: 1.0000\n",
      "Epoch 15/15\n",
      "20/20 [==============================] - 3s 155ms/step - loss: 0.1105 - categorical_accuracy: 0.9708 - val_loss: 0.0819 - val_categorical_accuracy: 1.0000\n"
     ]
    }
   ],
   "source": [
    "# Fine-tune the model on the new data\n",
    "history = model.fit(\n",
    "    train_generator,\n",
    "    steps_per_epoch=train_generator.samples // train_generator.batch_size,\n",
    "    validation_data=validation_generator,\n",
    "    validation_steps=validation_generator.samples // validation_generator.batch_size,\n",
    "    callbacks=[early_stop],\n",
    "    # class_weight=class_weights,\n",
    "    epochs=15\n",
    ")"
   ]
  },
  {
   "cell_type": "code",
   "execution_count": 9,
   "metadata": {},
   "outputs": [
    {
     "name": "stdout",
     "output_type": "stream",
     "text": [
      "3/3 [==============================] - 0s 96ms/step - loss: 0.0825 - categorical_accuracy: 1.0000\n",
      "Validation Loss: 0.08247848600149155, Validation Accuracy: 1.0\n"
     ]
    }
   ],
   "source": [
    "# Evaluate the model\n",
    "loss, accuracy = model.evaluate(validation_generator)\n",
    "print(f\"Validation Loss: {loss}, Validation Accuracy: {accuracy}\")\n",
    "\n",
    "# Save the fine-tuned model\n",
    "model.save('fine_tuned_plastic_metal_model.h5')"
   ]
  },
  {
   "cell_type": "markdown",
   "metadata": {},
   "source": [
    "### Inference"
   ]
  },
  {
   "cell_type": "code",
   "execution_count": 10,
   "metadata": {},
   "outputs": [],
   "source": [
    "from tensorflow.keras.models import load_model\n",
    "import numpy as np\n",
    "from tensorflow.keras.preprocessing import image\n",
    "\n",
    "# Load the fine-tuned model\n",
    "model = load_model('fine_tuned_plastic_metal_model.h5')"
   ]
  },
  {
   "cell_type": "code",
   "execution_count": 17,
   "metadata": {},
   "outputs": [],
   "source": [
    "# img_path = '../sample_data/metal_coke.jpg'\n",
    "# img_path = '../sample_data/plastic_bottle_out_of_shape.jpg'\n",
    "# img_path = 'trainingData/metal/image_20240922_040431_4.jpg'\n",
    "# img_path = 'trainingData/metal/image_20240922_034123_3.jpg'\n",
    "img_path = 'trainingData/plastic/image_20240922_023123_10.jpg'\n",
    "# img_path = 'trainingData/plastic/image_20240922_025322_17.jpg'\n",
    "img = image.load_img(img_path, target_size=(224, 224))\n",
    "img_array = image.img_to_array(img)\n",
    "img_array = np.expand_dims(img_array, axis=0)\n",
    "img_array = mobilenetv2.preprocess_input(img_array)"
   ]
  },
  {
   "cell_type": "code",
   "execution_count": 18,
   "metadata": {},
   "outputs": [
    {
     "name": "stdout",
     "output_type": "stream",
     "text": [
      "1/1 [==============================] - 0s 28ms/step\n",
      "[[0.5467155  0.45328447]]\n",
      "Predicted Class: metal\n"
     ]
    }
   ],
   "source": [
    "# Predict using the fine-tuned model\n",
    "predictions = model.predict(img_array)\n",
    "print(predictions)\n",
    "class_index = np.argmax(predictions, axis=1)\n",
    "\n",
    "# Map the predicted index to class label\n",
    "class_labels = ['metal', 'plastic']\n",
    "predicted_class = class_labels[class_index[0]]\n",
    "print(f'Predicted Class: {predicted_class}')"
   ]
  }
 ],
 "metadata": {
  "kernelspec": {
   "display_name": "image-processing",
   "language": "python",
   "name": "python3"
  },
  "language_info": {
   "codemirror_mode": {
    "name": "ipython",
    "version": 3
   },
   "file_extension": ".py",
   "mimetype": "text/x-python",
   "name": "python",
   "nbconvert_exporter": "python",
   "pygments_lexer": "ipython3",
   "version": "3.11.9"
  }
 },
 "nbformat": 4,
 "nbformat_minor": 2
}
