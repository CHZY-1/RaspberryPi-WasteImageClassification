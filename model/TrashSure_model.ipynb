{
 "cells": [
  {
   "cell_type": "markdown",
   "metadata": {},
   "source": [
    "https://github.com/TrashSure-Team/trashsure-ml-classification-model "
   ]
  },
  {
   "cell_type": "code",
   "execution_count": 4,
   "metadata": {},
   "outputs": [],
   "source": [
    "import matplotlib.pyplot as plt\n",
    "import numpy as np\n",
    "import tensorflow as tf\n",
    "from tensorflow.keras.preprocessing.image import img_to_array, load_img, ImageDataGenerator\n",
    "from sklearn.metrics import confusion_matrix, classification_report, accuracy_score"
   ]
  },
  {
   "cell_type": "code",
   "execution_count": 5,
   "metadata": {},
   "outputs": [],
   "source": [
    "IMG_SIZE = 128\n",
    "BATCH_SIZE = 32"
   ]
  },
  {
   "cell_type": "code",
   "execution_count": null,
   "metadata": {},
   "outputs": [],
   "source": [
    "# MobileNetV2 Base\n",
    "def create_model():\n",
    "    base_model = tf.keras.applications.MobileNetV2(input_shape=(IMG_SIZE, IMG_SIZE, 3),\n",
    "                                                   include_top=False, weights='imagenet')\n",
    "\n",
    "# Fine-Tune the Model by adding Fully Connected Layers\n",
    "    for layer in base_model.layers[:-10]:\n",
    "        layer.trainable = False\n",
    "\n",
    "    model = tf.keras.Sequential([\n",
    "        base_model,\n",
    "        tf.keras.layers.GlobalAveragePooling2D(),\n",
    "        tf.keras.layers.Dropout(0.2),  # Add Dropout for Regularization\n",
    "        tf.keras.layers.Dense(512, activation='relu'),\n",
    "        tf.keras.layers.Dropout(0.2),  # Add Dropout for Regularization\n",
    "        tf.keras.layers.Dense(7, activation='softmax')\n",
    "    ])\n",
    "\n",
    "    return model\n",
    "\n",
    "# Create the Model\n",
    "model = create_model()\n",
    "model.compile(optimizer='Adam',\n",
    "              loss=tf.keras.losses.categorical_crossentropy, \n",
    "              metrics=[tf.keras.metrics.categorical_accuracy])\n",
    "\n",
    "model.summary()"
   ]
  },
  {
   "cell_type": "code",
   "execution_count": 6,
   "metadata": {},
   "outputs": [
    {
     "name": "stdout",
     "output_type": "stream",
     "text": [
      "Model: \"sequential\"\n",
      "_________________________________________________________________\n",
      " Layer (type)                Output Shape              Param #   \n",
      "=================================================================\n",
      " mobilenetv2_1.00_128 (Funct  (None, 4, 4, 1280)       2257984   \n",
      " ional)                                                          \n",
      "                                                                 \n",
      " global_average_pooling2d (G  (None, 1280)             0         \n",
      " lobalAveragePooling2D)                                          \n",
      "                                                                 \n",
      " dropout (Dropout)           (None, 1280)              0         \n",
      "                                                                 \n",
      " dense (Dense)               (None, 512)               655872    \n",
      "                                                                 \n",
      " dropout_1 (Dropout)         (None, 512)               0         \n",
      "                                                                 \n",
      " dense_1 (Dense)             (None, 7)                 3591      \n",
      "                                                                 \n",
      "=================================================================\n",
      "Total params: 2,917,447\n",
      "Trainable params: 1,391,943\n",
      "Non-trainable params: 1,525,504\n",
      "_________________________________________________________________\n"
     ]
    }
   ],
   "source": [
    "model = tf.keras.models.load_model('TrashSure-model.h5')\n",
    "model.summary()"
   ]
  },
  {
   "cell_type": "code",
   "execution_count": 7,
   "metadata": {},
   "outputs": [],
   "source": [
    "def preprocess_image(image_path):\n",
    "    img = load_img(image_path, target_size=(IMG_SIZE, IMG_SIZE))\n",
    "    img_array = img_to_array(img)\n",
    "    img_array = np.expand_dims(img_array, axis=0)\n",
    "    img_array /= 128.0\n",
    "    return img_array"
   ]
  },
  {
   "cell_type": "code",
   "execution_count": 27,
   "metadata": {},
   "outputs": [],
   "source": [
    "# img_path = '../sample_data/metal_coke.jpg'\n",
    "# img_path = '../sample_data/plastic_bottle_partial.jpg'\n",
    "img_path = '../../trainingData/metal/image_20240922_040431_4.jpg'\n",
    "# img_path = '../../trainingData/metal/image_20240922_034123_3.jpg'\n",
    "# img_path = '../../trainingData/plastic/image_20240922_023123_10.jpg'\n",
    "# img_path = '../../trainingData/plastic/image_20240922_031110_3.jpg'\n",
    "# img_path = '../trainingData/metalNoLid/image_20240923_024508_1.jpg'\n",
    "# img_path = '../trainingData/plasticNoLid/image_20240923_023256_1.jpg'"
   ]
  },
  {
   "cell_type": "code",
   "execution_count": 28,
   "metadata": {},
   "outputs": [],
   "source": [
    "processed_image = preprocess_image(img_path)"
   ]
  },
  {
   "cell_type": "code",
   "execution_count": 29,
   "metadata": {},
   "outputs": [
    {
     "name": "stdout",
     "output_type": "stream",
     "text": [
      "1/1 [==============================] - 0s 27ms/step\n",
      "Predicted Class: e-Waste\n"
     ]
    }
   ],
   "source": [
    "# Perform inference\n",
    "predictions = model.predict(processed_image)\n",
    "\n",
    "# Retrieve the predicted class\n",
    "class_indices = {'Glass': 0, 'Medical': 1, 'Metal': 2, 'Paper': 3, 'Plastic': 4, 'Textiles': 5, 'e-Waste': 6}\n",
    "predicted_class = max(class_indices, key=lambda x: class_indices[x] == np.argmax(predictions))\n",
    "\n",
    "print(f\"Predicted Class: {predicted_class}\")"
   ]
  },
  {
   "cell_type": "markdown",
   "metadata": {},
   "source": [
    "Metrics"
   ]
  },
  {
   "cell_type": "code",
   "execution_count": 41,
   "metadata": {},
   "outputs": [],
   "source": [
    "data_directory = '../trainingData'\n",
    "categories = ['metalNoWindow', 'plasticNoWindow']"
   ]
  },
  {
   "cell_type": "code",
   "execution_count": 42,
   "metadata": {},
   "outputs": [],
   "source": [
    "# Define class indices as per the model's training setup\n",
    "class_indices = {'Glass': 0, 'Medical': 1, 'Metal': 2, 'Paper': 3, 'Plastic': 4, 'Textiles': 5, 'e-Waste': 6}"
   ]
  },
  {
   "cell_type": "code",
   "execution_count": 43,
   "metadata": {},
   "outputs": [
    {
     "name": "stdout",
     "output_type": "stream",
     "text": [
      "Found 180 images belonging to 2 classes.\n"
     ]
    }
   ],
   "source": [
    "test_datagen = ImageDataGenerator(rescale=1./255)\n",
    "\n",
    "# Load the test data\n",
    "test_generator = test_datagen.flow_from_directory(\n",
    "    directory=data_directory,\n",
    "    target_size=(IMG_SIZE, IMG_SIZE),\n",
    "    batch_size=BATCH_SIZE,\n",
    "    class_mode='categorical',\n",
    "    shuffle=False,\n",
    "    classes=categories\n",
    ")"
   ]
  },
  {
   "cell_type": "code",
   "execution_count": 44,
   "metadata": {},
   "outputs": [
    {
     "name": "stdout",
     "output_type": "stream",
     "text": [
      "6/6 [==============================] - 1s 125ms/step\n"
     ]
    }
   ],
   "source": [
    "# Get the true class indices from the generator\n",
    "true_labels = test_generator.classes  # True labels from the test generator (0 for metalNoLid, 1 for plasticNoLid)\n",
    "\n",
    "# Map the test generator class indices to the model's class indices\n",
    "mapped_true_labels = [class_indices['Metal'] if label == 0 else class_indices['Plastic'] for label in true_labels]\n",
    "\n",
    "predictions = model.predict(test_generator)\n",
    "predicted_labels = np.argmax(predictions, axis=1)"
   ]
  },
  {
   "cell_type": "code",
   "execution_count": 45,
   "metadata": {},
   "outputs": [],
   "source": [
    "# Identify unique classes in both true and predicted labels\n",
    "unique_classes = np.unique(np.concatenate((mapped_true_labels, predicted_labels)))\n",
    "\n",
    "# Adjust class names to match unique classes present in the results\n",
    "adjusted_class_labels = [list(class_indices.keys())[list(class_indices.values()).index(cls)] for cls in unique_classes]"
   ]
  },
  {
   "cell_type": "code",
   "execution_count": 46,
   "metadata": {},
   "outputs": [],
   "source": [
    "# Calculate overall accuracy\n",
    "accuracy = accuracy_score(mapped_true_labels, predicted_labels)\n",
    "\n",
    "# Generate confusion matrix including all possible classes\n",
    "conf_matrix = confusion_matrix(mapped_true_labels, predicted_labels, labels=unique_classes)\n",
    "\n",
    "# Generate a classification report for the predicted classes\n",
    "class_report = classification_report(mapped_true_labels, predicted_labels, target_names=adjusted_class_labels)"
   ]
  },
  {
   "cell_type": "code",
   "execution_count": 47,
   "metadata": {},
   "outputs": [
    {
     "name": "stdout",
     "output_type": "stream",
     "text": [
      "Accuracy: 0.9944\n",
      "Confusion Matrix:\n",
      "[[ 59   1]\n",
      " [  0 120]]\n",
      "Classification Report:\n",
      "              precision    recall  f1-score   support\n",
      "\n",
      "       Metal       1.00      0.98      0.99        60\n",
      "     Plastic       0.99      1.00      1.00       120\n",
      "\n",
      "    accuracy                           0.99       180\n",
      "   macro avg       1.00      0.99      0.99       180\n",
      "weighted avg       0.99      0.99      0.99       180\n",
      "\n"
     ]
    }
   ],
   "source": [
    "# Display the results\n",
    "print(f\"Accuracy: {accuracy:.4f}\")\n",
    "print(\"Confusion Matrix:\")\n",
    "print(conf_matrix)\n",
    "print(\"Classification Report:\")\n",
    "print(class_report)"
   ]
  },
  {
   "cell_type": "code",
   "execution_count": 48,
   "metadata": {},
   "outputs": [
    {
     "name": "stdout",
     "output_type": "stream",
     "text": [
      "\n",
      "Detailed Prediction Analysis:\n",
      "Correct: True Metal, Predicted Metal\n",
      "Correct: True Metal, Predicted Metal\n",
      "Correct: True Metal, Predicted Metal\n",
      "Correct: True Metal, Predicted Metal\n",
      "Correct: True Metal, Predicted Metal\n",
      "Correct: True Metal, Predicted Metal\n",
      "Correct: True Metal, Predicted Metal\n",
      "Correct: True Metal, Predicted Metal\n",
      "Correct: True Metal, Predicted Metal\n",
      "Correct: True Metal, Predicted Metal\n",
      "Correct: True Metal, Predicted Metal\n",
      "Correct: True Metal, Predicted Metal\n",
      "Correct: True Metal, Predicted Metal\n",
      "Correct: True Metal, Predicted Metal\n",
      "Correct: True Metal, Predicted Metal\n",
      "Correct: True Metal, Predicted Metal\n",
      "Correct: True Metal, Predicted Metal\n",
      "Correct: True Metal, Predicted Metal\n",
      "Correct: True Metal, Predicted Metal\n",
      "Correct: True Metal, Predicted Metal\n",
      "Correct: True Metal, Predicted Metal\n",
      "Correct: True Metal, Predicted Metal\n",
      "Correct: True Metal, Predicted Metal\n",
      "Correct: True Metal, Predicted Metal\n",
      "Correct: True Metal, Predicted Metal\n",
      "Correct: True Metal, Predicted Metal\n",
      "Correct: True Metal, Predicted Metal\n",
      "Correct: True Metal, Predicted Metal\n",
      "Correct: True Metal, Predicted Metal\n",
      "Correct: True Metal, Predicted Metal\n",
      "Correct: True Metal, Predicted Metal\n",
      "Correct: True Metal, Predicted Metal\n",
      "Correct: True Metal, Predicted Metal\n",
      "Correct: True Metal, Predicted Metal\n",
      "Correct: True Metal, Predicted Metal\n",
      "Correct: True Metal, Predicted Metal\n",
      "Correct: True Metal, Predicted Metal\n",
      "Correct: True Metal, Predicted Metal\n",
      "Correct: True Metal, Predicted Metal\n",
      "Correct: True Metal, Predicted Metal\n",
      "Correct: True Metal, Predicted Metal\n",
      "Correct: True Metal, Predicted Metal\n",
      "Correct: True Metal, Predicted Metal\n",
      "Correct: True Metal, Predicted Metal\n",
      "Correct: True Metal, Predicted Metal\n",
      "Correct: True Metal, Predicted Metal\n",
      "Correct: True Metal, Predicted Metal\n",
      "Correct: True Metal, Predicted Metal\n",
      "Correct: True Metal, Predicted Metal\n",
      "Correct: True Metal, Predicted Metal\n",
      "Correct: True Metal, Predicted Metal\n",
      "Correct: True Metal, Predicted Metal\n",
      "Correct: True Metal, Predicted Metal\n",
      "Correct: True Metal, Predicted Metal\n",
      "Correct: True Metal, Predicted Metal\n",
      "Incorrect: True Metal, Predicted Plastic\n",
      "Correct: True Metal, Predicted Metal\n",
      "Correct: True Metal, Predicted Metal\n",
      "Correct: True Metal, Predicted Metal\n",
      "Correct: True Metal, Predicted Metal\n",
      "Correct: True Plastic, Predicted Plastic\n",
      "Correct: True Plastic, Predicted Plastic\n",
      "Correct: True Plastic, Predicted Plastic\n",
      "Correct: True Plastic, Predicted Plastic\n",
      "Correct: True Plastic, Predicted Plastic\n",
      "Correct: True Plastic, Predicted Plastic\n",
      "Correct: True Plastic, Predicted Plastic\n",
      "Correct: True Plastic, Predicted Plastic\n",
      "Correct: True Plastic, Predicted Plastic\n",
      "Correct: True Plastic, Predicted Plastic\n",
      "Correct: True Plastic, Predicted Plastic\n",
      "Correct: True Plastic, Predicted Plastic\n",
      "Correct: True Plastic, Predicted Plastic\n",
      "Correct: True Plastic, Predicted Plastic\n",
      "Correct: True Plastic, Predicted Plastic\n",
      "Correct: True Plastic, Predicted Plastic\n",
      "Correct: True Plastic, Predicted Plastic\n",
      "Correct: True Plastic, Predicted Plastic\n",
      "Correct: True Plastic, Predicted Plastic\n",
      "Correct: True Plastic, Predicted Plastic\n",
      "Correct: True Plastic, Predicted Plastic\n",
      "Correct: True Plastic, Predicted Plastic\n",
      "Correct: True Plastic, Predicted Plastic\n",
      "Correct: True Plastic, Predicted Plastic\n",
      "Correct: True Plastic, Predicted Plastic\n",
      "Correct: True Plastic, Predicted Plastic\n",
      "Correct: True Plastic, Predicted Plastic\n",
      "Correct: True Plastic, Predicted Plastic\n",
      "Correct: True Plastic, Predicted Plastic\n",
      "Correct: True Plastic, Predicted Plastic\n",
      "Correct: True Plastic, Predicted Plastic\n",
      "Correct: True Plastic, Predicted Plastic\n",
      "Correct: True Plastic, Predicted Plastic\n",
      "Correct: True Plastic, Predicted Plastic\n",
      "Correct: True Plastic, Predicted Plastic\n",
      "Correct: True Plastic, Predicted Plastic\n",
      "Correct: True Plastic, Predicted Plastic\n",
      "Correct: True Plastic, Predicted Plastic\n",
      "Correct: True Plastic, Predicted Plastic\n",
      "Correct: True Plastic, Predicted Plastic\n",
      "Correct: True Plastic, Predicted Plastic\n",
      "Correct: True Plastic, Predicted Plastic\n",
      "Correct: True Plastic, Predicted Plastic\n",
      "Correct: True Plastic, Predicted Plastic\n",
      "Correct: True Plastic, Predicted Plastic\n",
      "Correct: True Plastic, Predicted Plastic\n",
      "Correct: True Plastic, Predicted Plastic\n",
      "Correct: True Plastic, Predicted Plastic\n",
      "Correct: True Plastic, Predicted Plastic\n",
      "Correct: True Plastic, Predicted Plastic\n",
      "Correct: True Plastic, Predicted Plastic\n",
      "Correct: True Plastic, Predicted Plastic\n",
      "Correct: True Plastic, Predicted Plastic\n",
      "Correct: True Plastic, Predicted Plastic\n",
      "Correct: True Plastic, Predicted Plastic\n",
      "Correct: True Plastic, Predicted Plastic\n",
      "Correct: True Plastic, Predicted Plastic\n",
      "Correct: True Plastic, Predicted Plastic\n",
      "Correct: True Plastic, Predicted Plastic\n",
      "Correct: True Plastic, Predicted Plastic\n",
      "Correct: True Plastic, Predicted Plastic\n",
      "Correct: True Plastic, Predicted Plastic\n",
      "Correct: True Plastic, Predicted Plastic\n",
      "Correct: True Plastic, Predicted Plastic\n",
      "Correct: True Plastic, Predicted Plastic\n",
      "Correct: True Plastic, Predicted Plastic\n",
      "Correct: True Plastic, Predicted Plastic\n",
      "Correct: True Plastic, Predicted Plastic\n",
      "Correct: True Plastic, Predicted Plastic\n",
      "Correct: True Plastic, Predicted Plastic\n",
      "Correct: True Plastic, Predicted Plastic\n",
      "Correct: True Plastic, Predicted Plastic\n",
      "Correct: True Plastic, Predicted Plastic\n",
      "Correct: True Plastic, Predicted Plastic\n",
      "Correct: True Plastic, Predicted Plastic\n",
      "Correct: True Plastic, Predicted Plastic\n",
      "Correct: True Plastic, Predicted Plastic\n",
      "Correct: True Plastic, Predicted Plastic\n",
      "Correct: True Plastic, Predicted Plastic\n",
      "Correct: True Plastic, Predicted Plastic\n",
      "Correct: True Plastic, Predicted Plastic\n",
      "Correct: True Plastic, Predicted Plastic\n",
      "Correct: True Plastic, Predicted Plastic\n",
      "Correct: True Plastic, Predicted Plastic\n",
      "Correct: True Plastic, Predicted Plastic\n",
      "Correct: True Plastic, Predicted Plastic\n",
      "Correct: True Plastic, Predicted Plastic\n",
      "Correct: True Plastic, Predicted Plastic\n",
      "Correct: True Plastic, Predicted Plastic\n",
      "Correct: True Plastic, Predicted Plastic\n",
      "Correct: True Plastic, Predicted Plastic\n",
      "Correct: True Plastic, Predicted Plastic\n",
      "Correct: True Plastic, Predicted Plastic\n",
      "Correct: True Plastic, Predicted Plastic\n",
      "Correct: True Plastic, Predicted Plastic\n",
      "Correct: True Plastic, Predicted Plastic\n",
      "Correct: True Plastic, Predicted Plastic\n",
      "Correct: True Plastic, Predicted Plastic\n",
      "Correct: True Plastic, Predicted Plastic\n",
      "Correct: True Plastic, Predicted Plastic\n",
      "Correct: True Plastic, Predicted Plastic\n",
      "Correct: True Plastic, Predicted Plastic\n",
      "Correct: True Plastic, Predicted Plastic\n",
      "Correct: True Plastic, Predicted Plastic\n",
      "Correct: True Plastic, Predicted Plastic\n",
      "Correct: True Plastic, Predicted Plastic\n",
      "Correct: True Plastic, Predicted Plastic\n",
      "Correct: True Plastic, Predicted Plastic\n",
      "Correct: True Plastic, Predicted Plastic\n",
      "Correct: True Plastic, Predicted Plastic\n",
      "Correct: True Plastic, Predicted Plastic\n",
      "Correct: True Plastic, Predicted Plastic\n",
      "Correct: True Plastic, Predicted Plastic\n",
      "Correct: True Plastic, Predicted Plastic\n",
      "Correct: True Plastic, Predicted Plastic\n",
      "Correct: True Plastic, Predicted Plastic\n",
      "Correct: True Plastic, Predicted Plastic\n",
      "Correct: True Plastic, Predicted Plastic\n",
      "Correct: True Plastic, Predicted Plastic\n",
      "Correct: True Plastic, Predicted Plastic\n",
      "\n",
      "Predictions per class:\n",
      "Glass: 0\n",
      "Medical: 0\n",
      "Metal: 59\n",
      "Paper: 0\n",
      "Plastic: 121\n",
      "Textiles: 0\n",
      "e-Waste: 0\n"
     ]
    }
   ],
   "source": [
    "# Custom analysis for all classes\n",
    "print(\"\\nDetailed Prediction Analysis:\")\n",
    "for true_label, pred_label in zip(mapped_true_labels, predicted_labels):\n",
    "    true_class = list(class_indices.keys())[list(class_indices.values()).index(true_label)]\n",
    "    pred_class = list(class_indices.keys())[list(class_indices.values()).index(pred_label)]\n",
    "    \n",
    "    if true_label == pred_label:\n",
    "        print(f\"Correct: True {true_class}, Predicted {pred_class}\")\n",
    "    else:\n",
    "        print(f\"Incorrect: True {true_class}, Predicted {pred_class}\")\n",
    "\n",
    "# Count predictions for each class\n",
    "class_predictions = {class_name: sum(predicted_labels == class_index) \n",
    "                     for class_name, class_index in class_indices.items()}\n",
    "\n",
    "print(\"\\nPredictions per class:\")\n",
    "for class_name, count in class_predictions.items():\n",
    "    print(f\"{class_name}: {count}\")"
   ]
  },
  {
   "cell_type": "code",
   "execution_count": 49,
   "metadata": {},
   "outputs": [],
   "source": [
    "import seaborn as sns\n",
    "import matplotlib.pyplot as plt"
   ]
  },
  {
   "cell_type": "code",
   "execution_count": 50,
   "metadata": {},
   "outputs": [
    {
     "data": {
      "image/png": "[encoded data removed]",
      "text/plain": [
       "<Figure size 1000x800 with 2 Axes>"
      ]
     },
     "metadata": {},
     "output_type": "display_data"
    }
   ],
   "source": [
    "# Visualize the Confusion Matrix\n",
    "plt.figure(figsize=(10, 8))\n",
    "sns.heatmap(conf_matrix, annot=True, fmt='d', cmap='Blues', \n",
    "            xticklabels=adjusted_class_labels, yticklabels=adjusted_class_labels)\n",
    "plt.xlabel('Predicted Labels')\n",
    "plt.ylabel('True Labels')\n",
    "plt.title('Confusion Matrix')\n",
    "plt.show()"
   ]
  }
 ],
 "metadata": {
  "kernelspec": {
   "display_name": "image-processing",
   "language": "python",
   "name": "python3"
  },
  "language_info": {
   "codemirror_mode": {
    "name": "ipython",
    "version": 3
   },
   "file_extension": ".py",
   "mimetype": "text/x-python",
   "name": "python",
   "nbconvert_exporter": "python",
   "pygments_lexer": "ipython3",
   "version": "3.11.9"
  }
 },
 "nbformat": 4,
 "nbformat_minor": 2
}
