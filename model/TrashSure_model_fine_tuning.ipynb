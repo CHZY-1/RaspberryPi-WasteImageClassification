{
 "cells": [
  {
   "cell_type": "markdown",
   "metadata": {},
   "source": [
    "https://github.com/TrashSure-Team/trashsure-ml-classification-model "
   ]
  },
  {
   "cell_type": "code",
   "execution_count": 1,
   "metadata": {},
   "outputs": [],
   "source": [
    "import matplotlib.pyplot as plt\n",
    "import seaborn as sns\n",
    "import numpy as np\n",
    "import tensorflow as tf\n",
    "import os\n",
    "import cv2\n",
    "\n",
    "from tensorflow.keras.preprocessing.image import img_to_array, load_img, ImageDataGenerator\n",
    "from tensorflow.keras.optimizers import Adam\n",
    "from tensorflow.keras.callbacks import ReduceLROnPlateau, EarlyStopping, ModelCheckpoint\n",
    "from tensorflow.keras import layers\n",
    "from sklearn.metrics import confusion_matrix, classification_report, accuracy_score"
   ]
  },
  {
   "cell_type": "code",
   "execution_count": 2,
   "metadata": {},
   "outputs": [],
   "source": [
    "IMG_SIZE = 128\n",
    "BATCH_SIZE = 32"
   ]
  },
  {
   "cell_type": "markdown",
   "metadata": {},
   "source": [
    "### Base Model Architecture"
   ]
  },
  {
   "cell_type": "code",
   "execution_count": null,
   "metadata": {},
   "outputs": [],
   "source": [
    "# MobileNetV2 Base\n",
    "def create_model():\n",
    "    base_model = tf.keras.applications.MobileNetV2(input_shape=(IMG_SIZE, IMG_SIZE, 3),\n",
    "                                                   include_top=False, weights='imagenet')\n",
    "\n",
    "# Fine-Tune the Model by adding Fully Connected Layers\n",
    "    for layer in base_model.layers[:-10]:\n",
    "        layer.trainable = False\n",
    "\n",
    "    model = tf.keras.Sequential([\n",
    "        base_model,\n",
    "        tf.keras.layers.GlobalAveragePooling2D(),\n",
    "        tf.keras.layers.Dropout(0.2),  # Add Dropout for Regularization\n",
    "        tf.keras.layers.Dense(512, activation='relu'),\n",
    "        tf.keras.layers.Dropout(0.2),  # Add Dropout for Regularization\n",
    "        tf.keras.layers.Dense(7, activation='softmax')\n",
    "    ])\n",
    "\n",
    "    return model\n",
    "\n",
    "# Create the Model\n",
    "model = create_model()\n",
    "model.compile(optimizer='Adam',\n",
    "              loss=tf.keras.losses.categorical_crossentropy, \n",
    "              metrics=[tf.keras.metrics.categorical_accuracy])\n",
    "\n",
    "model.summary()"
   ]
  },
  {
   "cell_type": "markdown",
   "metadata": {},
   "source": [
    "### Load Pre-Trained Model"
   ]
  },
  {
   "cell_type": "code",
   "execution_count": 54,
   "metadata": {},
   "outputs": [
    {
     "name": "stdout",
     "output_type": "stream",
     "text": [
      "Model: \"sequential\"\n",
      "_________________________________________________________________\n",
      " Layer (type)                Output Shape              Param #   \n",
      "=================================================================\n",
      " mobilenetv2_1.00_128 (Funct  (None, 4, 4, 1280)       2257984   \n",
      " ional)                                                          \n",
      "                                                                 \n",
      " global_average_pooling2d (G  (None, 1280)             0         \n",
      " lobalAveragePooling2D)                                          \n",
      "                                                                 \n",
      " dropout (Dropout)           (None, 1280)              0         \n",
      "                                                                 \n",
      " dense (Dense)               (None, 512)               655872    \n",
      "                                                                 \n",
      " dropout_1 (Dropout)         (None, 512)               0         \n",
      "                                                                 \n",
      " dense_1 (Dense)             (None, 7)                 3591      \n",
      "                                                                 \n",
      "=================================================================\n",
      "Total params: 2,917,447\n",
      "Trainable params: 1,391,943\n",
      "Non-trainable params: 1,525,504\n",
      "_________________________________________________________________\n"
     ]
    }
   ],
   "source": [
    "model = tf.keras.models.load_model('TrashSure-model.h5')\n",
    "# model = tf.keras.models.load_model('fine-tuned/fine_tuned_no_Window_model.h5')\n",
    "model.summary()"
   ]
  },
  {
   "cell_type": "code",
   "execution_count": 5,
   "metadata": {},
   "outputs": [],
   "source": [
    "def preprocess_image(image_path):\n",
    "    img = load_img(image_path, target_size=(IMG_SIZE, IMG_SIZE))\n",
    "    img_array = img_to_array(img)\n",
    "    img_array = np.expand_dims(img_array, axis=0)\n",
    "    img_array /= 255.0 # Standard normalization to [0, 1]\n",
    "    # img_array = (img_array / 127.5) - 1.0  # Normalize to [-1, 1]\n",
    "    return img_array"
   ]
  },
  {
   "cell_type": "code",
   "execution_count": 29,
   "metadata": {},
   "outputs": [],
   "source": [
    "# img_path = '../sample_data/metal_coke.jpg'\n",
    "# img_path = '../sample_data/plastic_bottle_partial.jpg'\n",
    "# img_path = '../../trainingData/metal/image_20240922_040431_4.jpg'\n",
    "img_path = '../../trainingData/metal/image_20240922_034123_3.jpg'\n",
    "# img_path = '../../trainingData/plastic/image_20240922_023123_10.jpg'\n",
    "# img_path = '../../trainingData/plastic/image_20240922_031110_3.jpg'\n",
    "# img_path = '../trainingData/metalNoLid/image_20240923_024508_1.jpg'\n",
    "# img_path = '../trainingData/plasticNoLid/image_20240923_023256_1.jpg'"
   ]
  },
  {
   "cell_type": "code",
   "execution_count": 25,
   "metadata": {},
   "outputs": [],
   "source": [
    "processed_image = preprocess_image(img_path)"
   ]
  },
  {
   "cell_type": "code",
   "execution_count": 30,
   "metadata": {},
   "outputs": [
    {
     "name": "stdout",
     "output_type": "stream",
     "text": [
      "1/1 [==============================] - 0s 32ms/step\n",
      "Predicted Class: Glass\n"
     ]
    }
   ],
   "source": [
    "# Perform inference\n",
    "predictions = model.predict(processed_image)\n",
    "\n",
    "# Retrieve the predicted class\n",
    "class_indices = {'Glass': 0, 'Medical': 1, 'Metal': 2, 'Paper': 3, 'Plastic': 4, 'Textiles': 5, 'e-Waste': 6}\n",
    "predicted_class = max(class_indices, key=lambda x: class_indices[x] == np.argmax(predictions))\n",
    "\n",
    "print(f\"Predicted Class: {predicted_class}\")"
   ]
  },
  {
   "cell_type": "markdown",
   "metadata": {},
   "source": [
    "Pre-Trained Model Evaluation"
   ]
  },
  {
   "cell_type": "code",
   "execution_count": 39,
   "metadata": {},
   "outputs": [],
   "source": [
    "del model\n",
    "\n",
    "model = tf.keras.models.load_model('fine-tuned/fine_tuned_combined_best_model.h5')"
   ]
  },
  {
   "cell_type": "code",
   "execution_count": 55,
   "metadata": {},
   "outputs": [],
   "source": [
    "# Test set directory\n",
    "data_directory = '../trainingData'\n",
    "categories = ['testMetal', 'testPlastic']"
   ]
  },
  {
   "cell_type": "code",
   "execution_count": 56,
   "metadata": {},
   "outputs": [],
   "source": [
    "# Define class indices as per the model's training setup\n",
    "# class_indices = {'Metal':0 , 'Plastic':1} # Fine-Tuned\n",
    "class_indices = {'Glass': 0, 'Medical': 1, 'Metal': 2, 'Paper': 3, 'Plastic': 4, 'Textiles': 5, 'e-Waste': 6}"
   ]
  },
  {
   "cell_type": "code",
   "execution_count": 57,
   "metadata": {},
   "outputs": [
    {
     "name": "stdout",
     "output_type": "stream",
     "text": [
      "Found 60 images belonging to 2 classes.\n"
     ]
    }
   ],
   "source": [
    "test_datagen = ImageDataGenerator(rescale=1./255)\n",
    "\n",
    "# Load the test data\n",
    "test_generator = test_datagen.flow_from_directory(\n",
    "    directory=data_directory,\n",
    "    target_size=(IMG_SIZE, IMG_SIZE),\n",
    "    batch_size=BATCH_SIZE,\n",
    "    class_mode='categorical',\n",
    "    shuffle=False,\n",
    "    classes=categories\n",
    ")"
   ]
  },
  {
   "cell_type": "code",
   "execution_count": 58,
   "metadata": {},
   "outputs": [
    {
     "name": "stdout",
     "output_type": "stream",
     "text": [
      "2/2 [==============================] - 1s 105ms/step\n"
     ]
    }
   ],
   "source": [
    "# Get the true class indices from the generator\n",
    "true_labels = test_generator.classes  # True labels from the test generator (0 for metalNoLid, 1 for plasticNoLid)\n",
    "\n",
    "# Map the test generator class indices to the model's class indices\n",
    "mapped_true_labels = [class_indices['Metal'] if label == 0 else class_indices['Plastic'] for label in true_labels]\n",
    "\n",
    "predictions = model.predict(test_generator)\n",
    "predicted_labels = np.argmax(predictions, axis=1)"
   ]
  },
  {
   "cell_type": "code",
   "execution_count": 59,
   "metadata": {},
   "outputs": [],
   "source": [
    "# Identify unique classes in both true and predicted labels\n",
    "unique_classes = np.unique(np.concatenate((mapped_true_labels, predicted_labels)))\n",
    "\n",
    "# Adjust class names to match unique classes present in the results\n",
    "adjusted_class_labels = [list(class_indices.keys())[list(class_indices.values()).index(cls)] for cls in unique_classes]"
   ]
  },
  {
   "cell_type": "code",
   "execution_count": 60,
   "metadata": {},
   "outputs": [
    {
     "name": "stderr",
     "output_type": "stream",
     "text": [
      "c:\\Users\\User\\anaconda3\\envs\\image-processing\\Lib\\site-packages\\sklearn\\metrics\\_classification.py:1531: UndefinedMetricWarning: Recall is ill-defined and being set to 0.0 in labels with no true samples. Use `zero_division` parameter to control this behavior.\n",
      "  _warn_prf(average, modifier, f\"{metric.capitalize()} is\", len(result))\n",
      "c:\\Users\\User\\anaconda3\\envs\\image-processing\\Lib\\site-packages\\sklearn\\metrics\\_classification.py:1531: UndefinedMetricWarning: Recall is ill-defined and being set to 0.0 in labels with no true samples. Use `zero_division` parameter to control this behavior.\n",
      "  _warn_prf(average, modifier, f\"{metric.capitalize()} is\", len(result))\n",
      "c:\\Users\\User\\anaconda3\\envs\\image-processing\\Lib\\site-packages\\sklearn\\metrics\\_classification.py:1531: UndefinedMetricWarning: Recall is ill-defined and being set to 0.0 in labels with no true samples. Use `zero_division` parameter to control this behavior.\n",
      "  _warn_prf(average, modifier, f\"{metric.capitalize()} is\", len(result))\n"
     ]
    }
   ],
   "source": [
    "# Calculate overall accuracy\n",
    "accuracy = accuracy_score(mapped_true_labels, predicted_labels)\n",
    "\n",
    "# Generate confusion matrix including all possible classes\n",
    "conf_matrix = confusion_matrix(mapped_true_labels, predicted_labels, labels=unique_classes)\n",
    "\n",
    "# Generate a classification report for the predicted classes\n",
    "class_report = classification_report(mapped_true_labels, predicted_labels, target_names=adjusted_class_labels)"
   ]
  },
  {
   "cell_type": "code",
   "execution_count": 61,
   "metadata": {},
   "outputs": [
    {
     "name": "stdout",
     "output_type": "stream",
     "text": [
      "Accuracy: 0.8167\n",
      "Confusion Matrix:\n",
      "[[20 10  0]\n",
      " [ 0  0  0]\n",
      " [ 0  1 29]]\n",
      "Classification Report:\n",
      "              precision    recall  f1-score   support\n",
      "\n",
      "       Metal       1.00      0.67      0.80        30\n",
      "       Paper       0.00      0.00      0.00         0\n",
      "     Plastic       1.00      0.97      0.98        30\n",
      "\n",
      "    accuracy                           0.82        60\n",
      "   macro avg       0.67      0.54      0.59        60\n",
      "weighted avg       1.00      0.82      0.89        60\n",
      "\n"
     ]
    }
   ],
   "source": [
    "# Display the results\n",
    "print(f\"Accuracy: {accuracy:.4f}\")\n",
    "print(\"Confusion Matrix:\")\n",
    "print(conf_matrix)\n",
    "print(\"Classification Report:\")\n",
    "print(class_report)"
   ]
  },
  {
   "cell_type": "code",
   "execution_count": 62,
   "metadata": {},
   "outputs": [
    {
     "name": "stdout",
     "output_type": "stream",
     "text": [
      "\n",
      "Detailed Prediction Analysis:\n",
      "Incorrect: True Metal, Predicted Paper\n",
      "Incorrect: True Metal, Predicted Paper\n",
      "Incorrect: True Metal, Predicted Paper\n",
      "Incorrect: True Metal, Predicted Paper\n",
      "Incorrect: True Metal, Predicted Paper\n",
      "Incorrect: True Metal, Predicted Paper\n",
      "Incorrect: True Metal, Predicted Paper\n",
      "Incorrect: True Metal, Predicted Paper\n",
      "Incorrect: True Metal, Predicted Paper\n",
      "Incorrect: True Metal, Predicted Paper\n",
      "Correct: True Metal, Predicted Metal\n",
      "Correct: True Metal, Predicted Metal\n",
      "Correct: True Metal, Predicted Metal\n",
      "Correct: True Metal, Predicted Metal\n",
      "Correct: True Metal, Predicted Metal\n",
      "Correct: True Metal, Predicted Metal\n",
      "Correct: True Metal, Predicted Metal\n",
      "Correct: True Metal, Predicted Metal\n",
      "Correct: True Metal, Predicted Metal\n",
      "Correct: True Metal, Predicted Metal\n",
      "Correct: True Metal, Predicted Metal\n",
      "Correct: True Metal, Predicted Metal\n",
      "Correct: True Metal, Predicted Metal\n",
      "Correct: True Metal, Predicted Metal\n",
      "Correct: True Metal, Predicted Metal\n",
      "Correct: True Metal, Predicted Metal\n",
      "Correct: True Metal, Predicted Metal\n",
      "Correct: True Metal, Predicted Metal\n",
      "Correct: True Metal, Predicted Metal\n",
      "Correct: True Metal, Predicted Metal\n",
      "Correct: True Plastic, Predicted Plastic\n",
      "Correct: True Plastic, Predicted Plastic\n",
      "Correct: True Plastic, Predicted Plastic\n",
      "Correct: True Plastic, Predicted Plastic\n",
      "Correct: True Plastic, Predicted Plastic\n",
      "Correct: True Plastic, Predicted Plastic\n",
      "Correct: True Plastic, Predicted Plastic\n",
      "Correct: True Plastic, Predicted Plastic\n",
      "Correct: True Plastic, Predicted Plastic\n",
      "Incorrect: True Plastic, Predicted Paper\n",
      "Correct: True Plastic, Predicted Plastic\n",
      "Correct: True Plastic, Predicted Plastic\n",
      "Correct: True Plastic, Predicted Plastic\n",
      "Correct: True Plastic, Predicted Plastic\n",
      "Correct: True Plastic, Predicted Plastic\n",
      "Correct: True Plastic, Predicted Plastic\n",
      "Correct: True Plastic, Predicted Plastic\n",
      "Correct: True Plastic, Predicted Plastic\n",
      "Correct: True Plastic, Predicted Plastic\n",
      "Correct: True Plastic, Predicted Plastic\n",
      "Correct: True Plastic, Predicted Plastic\n",
      "Correct: True Plastic, Predicted Plastic\n",
      "Correct: True Plastic, Predicted Plastic\n",
      "Correct: True Plastic, Predicted Plastic\n",
      "Correct: True Plastic, Predicted Plastic\n",
      "Correct: True Plastic, Predicted Plastic\n",
      "Correct: True Plastic, Predicted Plastic\n",
      "Correct: True Plastic, Predicted Plastic\n",
      "Correct: True Plastic, Predicted Plastic\n",
      "Correct: True Plastic, Predicted Plastic\n",
      "\n",
      "Predictions per class:\n",
      "Glass: 0\n",
      "Medical: 0\n",
      "Metal: 20\n",
      "Paper: 11\n",
      "Plastic: 29\n",
      "Textiles: 0\n",
      "e-Waste: 0\n"
     ]
    }
   ],
   "source": [
    "# Custom analysis for all classes\n",
    "print(\"\\nDetailed Prediction Analysis:\")\n",
    "for true_label, pred_label in zip(mapped_true_labels, predicted_labels):\n",
    "    true_class = list(class_indices.keys())[list(class_indices.values()).index(true_label)]\n",
    "    pred_class = list(class_indices.keys())[list(class_indices.values()).index(pred_label)]\n",
    "    \n",
    "    if true_label == pred_label:\n",
    "        print(f\"Correct: True {true_class}, Predicted {pred_class}\")\n",
    "    else:\n",
    "        print(f\"Incorrect: True {true_class}, Predicted {pred_class}\")\n",
    "\n",
    "# Count predictions for each class\n",
    "class_predictions = {class_name: sum(predicted_labels == class_index) \n",
    "                     for class_name, class_index in class_indices.items()}\n",
    "\n",
    "print(\"\\nPredictions per class:\")\n",
    "for class_name, count in class_predictions.items():\n",
    "    print(f\"{class_name}: {count}\")"
   ]
  },
  {
   "cell_type": "code",
   "execution_count": 63,
   "metadata": {},
   "outputs": [
    {
     "data": {
      "image/png": "[encoded data removed]",
      "text/plain": [
       "<Figure size 1000x800 with 2 Axes>"
      ]
     },
     "metadata": {},
     "output_type": "display_data"
    }
   ],
   "source": [
    "# Visualize the Confusion Matrix\n",
    "plt.figure(figsize=(10, 8))\n",
    "sns.heatmap(conf_matrix, annot=True, fmt='d', cmap='Blues', \n",
    "            xticklabels=adjusted_class_labels, yticklabels=adjusted_class_labels)\n",
    "plt.xlabel('Predicted Labels')\n",
    "plt.ylabel('True Labels')\n",
    "plt.title('Confusion Matrix')\n",
    "plt.show()"
   ]
  },
  {
   "cell_type": "markdown",
   "metadata": {},
   "source": [
    "### Fine Tuning"
   ]
  },
  {
   "cell_type": "code",
   "execution_count": 50,
   "metadata": {},
   "outputs": [
    {
     "name": "stdout",
     "output_type": "stream",
     "text": [
      "Found 648 images belonging to 2 classes.\n",
      "Found 72 images belonging to 2 classes.\n"
     ]
    }
   ],
   "source": [
    "train_dir = \"../../trainingData\"\n",
    "training_classes = ['metal', 'plastic'] \n",
    "\n",
    "# Create ImageDataGenerator for training with specific folders\n",
    "train_datagen = ImageDataGenerator(\n",
    "    rescale=1./255,\n",
    "    validation_split=0.1\n",
    ")\n",
    "\n",
    "# Define the train generator\n",
    "train_generator = train_datagen.flow_from_directory(\n",
    "    directory=train_dir,\n",
    "    target_size=(IMG_SIZE, IMG_SIZE),\n",
    "    batch_size=BATCH_SIZE,\n",
    "    classes=training_classes,\n",
    "    class_mode='categorical',\n",
    "    subset='training'\n",
    ")\n",
    "\n",
    "validation_generator = train_datagen.flow_from_directory(\n",
    "    directory=train_dir,\n",
    "    target_size=(IMG_SIZE, IMG_SIZE),\n",
    "    batch_size=BATCH_SIZE,\n",
    "    classes=training_classes,\n",
    "    class_mode='categorical',\n",
    "    subset='validation'\n",
    ")"
   ]
  },
  {
   "cell_type": "markdown",
   "metadata": {},
   "source": [
    "### New Model Architecture"
   ]
  },
  {
   "cell_type": "code",
   "execution_count": 21,
   "metadata": {},
   "outputs": [],
   "source": [
    "# # MobileNetV2 Base\n",
    "# def create_model():\n",
    "#     base_model = tf.keras.applications.MobileNetV2(\n",
    "#         input_shape=(IMG_SIZE, IMG_SIZE, 3),\n",
    "#         include_top=False,\n",
    "#         weights='imagenet'\n",
    "#     )\n",
    "\n",
    "#     # Fine-Tune the Model by adding Fully Connected Layers\n",
    "#     for layer in base_model.layers[:-10]:\n",
    "#         layer.trainable = False\n",
    "\n",
    "#     model = tf.keras.Sequential([\n",
    "#         base_model,\n",
    "#         tf.keras.layers.GlobalAveragePooling2D(),\n",
    "#         tf.keras.layers.Dropout(0.2),  # Add Dropout for Regularization\n",
    "#         tf.keras.layers.Dense(512, activation='relu'),\n",
    "#         tf.keras.layers.Dropout(0.2),  # Add Dropout for Regularization\n",
    "#         tf.keras.layers.Dense(2, activation='softmax')\n",
    "#     ])\n",
    "\n",
    "#     return model\n",
    "\n",
    "# # Create the Model\n",
    "# model = create_model()\n",
    "# model.compile(\n",
    "#     optimizer=Adam(learning_rate=0.0001),\n",
    "#     loss='categorical_crossentropy',\n",
    "#     metrics=['accuracy']\n",
    "# )\n",
    "\n",
    "# model.summary()"
   ]
  },
  {
   "cell_type": "markdown",
   "metadata": {},
   "source": [
    "### Transfer Learning"
   ]
  },
  {
   "cell_type": "code",
   "execution_count": 49,
   "metadata": {},
   "outputs": [
    {
     "name": "stdout",
     "output_type": "stream",
     "text": [
      "Model: \"sequential\"\n",
      "_________________________________________________________________\n",
      " Layer (type)                Output Shape              Param #   \n",
      "=================================================================\n",
      " mobilenetv2_1.00_128 (Funct  (None, 4, 4, 1280)       2257984   \n",
      " ional)                                                          \n",
      "                                                                 \n",
      " global_average_pooling2d (G  (None, 1280)             0         \n",
      " lobalAveragePooling2D)                                          \n",
      "                                                                 \n",
      " dropout (Dropout)           (None, 1280)              0         \n",
      "                                                                 \n",
      " dense (Dense)               (None, 512)               655872    \n",
      "                                                                 \n",
      " dropout_1 (Dropout)         (None, 512)               0         \n",
      "                                                                 \n",
      " dense_1 (Dense)             (None, 7)                 3591      \n",
      "                                                                 \n",
      "=================================================================\n",
      "Total params: 2,917,447\n",
      "Trainable params: 1,391,943\n",
      "Non-trainable params: 1,525,504\n",
      "_________________________________________________________________\n"
     ]
    }
   ],
   "source": [
    "del model\n",
    "\n",
    "model = tf.keras.models.load_model('TrashSure-model.h5')\n",
    "model.summary()"
   ]
  },
  {
   "cell_type": "code",
   "execution_count": 51,
   "metadata": {},
   "outputs": [
    {
     "name": "stdout",
     "output_type": "stream",
     "text": [
      "Model: \"model_4\"\n",
      "_________________________________________________________________\n",
      " Layer (type)                Output Shape              Param #   \n",
      "=================================================================\n",
      " mobilenetv2_1.00_128_input   [(None, 128, 128, 3)]    0         \n",
      " (InputLayer)                                                    \n",
      "                                                                 \n",
      " mobilenetv2_1.00_128 (Funct  (None, 4, 4, 1280)       2257984   \n",
      " ional)                                                          \n",
      "                                                                 \n",
      " global_average_pooling2d (G  (None, 1280)             0         \n",
      " lobalAveragePooling2D)                                          \n",
      "                                                                 \n",
      " dropout (Dropout)           (None, 1280)              0         \n",
      "                                                                 \n",
      " dense (Dense)               (None, 512)               655872    \n",
      "                                                                 \n",
      " dropout_1 (Dropout)         (None, 512)               0         \n",
      "                                                                 \n",
      " dense_4 (Dense)             (None, 2)                 1026      \n",
      "                                                                 \n",
      "=================================================================\n",
      "Total params: 2,914,882\n",
      "Trainable params: 1,026\n",
      "Non-trainable params: 2,913,856\n",
      "_________________________________________________________________\n"
     ]
    }
   ],
   "source": [
    "# Remove the last layer (which is Dense(7))\n",
    "model.pop()\n",
    "\n",
    "# Add a new Dense layer with 2 units (for Metal and Plastic) and softmax activation\n",
    "new_output = layers.Dense(2, activation='softmax')(model.layers[-1].output)\n",
    "\n",
    "# Create a new model\n",
    "model = tf.keras.Model(inputs=model.input, outputs=new_output)\n",
    "\n",
    "# Freeze all layers except the new output layer\n",
    "for layer in model.layers[:-1]:\n",
    "    layer.trainable = False\n",
    "\n",
    "# Check the updated structure of the model\n",
    "model.summary()"
   ]
  },
  {
   "cell_type": "code",
   "execution_count": 55,
   "metadata": {},
   "outputs": [],
   "source": [
    "model.compile(optimizer=tf.keras.optimizers.Adam(learning_rate=1e-4), loss='categorical_crossentropy', metrics=['accuracy'])"
   ]
  },
  {
   "cell_type": "code",
   "execution_count": 56,
   "metadata": {},
   "outputs": [],
   "source": [
    "# adjusts the learning rate when the validation loss plateaus\n",
    "reduce_lr = ReduceLROnPlateau(monitor='val_loss', factor=0.5, patience=5, min_lr=1e-6)\n",
    "\n",
    "# stops training when no further improvement is seen\n",
    "early_stopping = EarlyStopping(monitor='val_loss', patience=5, restore_best_weights=True)\n",
    "\n",
    "# Saves the best model based on the validation loss\n",
    "model_checkpoint = ModelCheckpoint('fine-tuned/fine_tuned_combined_model.h5', save_best_only=True, monitor='val_loss', mode='min')"
   ]
  },
  {
   "cell_type": "code",
   "execution_count": 57,
   "metadata": {},
   "outputs": [],
   "source": [
    "data_augmentation = tf.keras.preprocessing.image.ImageDataGenerator(\n",
    "    rotation_range=15,\n",
    "    width_shift_range=0.1,\n",
    "    height_shift_range=0.1,\n",
    "    shear_range=0.1,\n",
    "    zoom_range=0.1,\n",
    "    horizontal_flip=True,\n",
    "    fill_mode='nearest'\n",
    ")"
   ]
  },
  {
   "cell_type": "code",
   "execution_count": 58,
   "metadata": {},
   "outputs": [
    {
     "name": "stdout",
     "output_type": "stream",
     "text": [
      "Epoch 1/35\n",
      "21/21 [==============================] - 5s 170ms/step - loss: 0.9131 - accuracy: 0.5340 - val_loss: 0.6214 - val_accuracy: 0.6806 - lr: 0.0010\n",
      "Epoch 2/35\n",
      "21/21 [==============================] - 3s 145ms/step - loss: 0.3943 - accuracy: 0.8164 - val_loss: 0.4031 - val_accuracy: 0.8750 - lr: 0.0010\n",
      "Epoch 3/35\n",
      "21/21 [==============================] - 3s 152ms/step - loss: 0.3121 - accuracy: 0.8534 - val_loss: 0.3230 - val_accuracy: 0.8889 - lr: 0.0010\n",
      "Epoch 4/35\n",
      "21/21 [==============================] - 3s 143ms/step - loss: 0.2728 - accuracy: 0.8827 - val_loss: 0.2795 - val_accuracy: 0.9167 - lr: 0.0010\n",
      "Epoch 5/35\n",
      "21/21 [==============================] - 3s 145ms/step - loss: 0.2617 - accuracy: 0.8904 - val_loss: 0.2466 - val_accuracy: 0.9167 - lr: 0.0010\n",
      "Epoch 6/35\n",
      "21/21 [==============================] - 3s 147ms/step - loss: 0.2453 - accuracy: 0.8889 - val_loss: 0.2367 - val_accuracy: 0.9444 - lr: 0.0010\n",
      "Epoch 7/35\n",
      "21/21 [==============================] - 3s 142ms/step - loss: 0.2126 - accuracy: 0.9090 - val_loss: 0.2184 - val_accuracy: 0.9444 - lr: 0.0010\n",
      "Epoch 8/35\n",
      "21/21 [==============================] - 3s 144ms/step - loss: 0.2122 - accuracy: 0.9167 - val_loss: 0.2032 - val_accuracy: 0.9444 - lr: 0.0010\n",
      "Epoch 9/35\n",
      "21/21 [==============================] - 3s 142ms/step - loss: 0.1934 - accuracy: 0.9259 - val_loss: 0.1861 - val_accuracy: 0.9722 - lr: 0.0010\n",
      "Epoch 10/35\n",
      "21/21 [==============================] - 3s 146ms/step - loss: 0.1881 - accuracy: 0.9275 - val_loss: 0.1787 - val_accuracy: 0.9722 - lr: 0.0010\n",
      "Epoch 11/35\n",
      "21/21 [==============================] - 3s 142ms/step - loss: 0.1826 - accuracy: 0.9213 - val_loss: 0.1775 - val_accuracy: 0.9861 - lr: 0.0010\n",
      "Epoch 12/35\n",
      "21/21 [==============================] - 3s 144ms/step - loss: 0.1825 - accuracy: 0.9306 - val_loss: 0.1694 - val_accuracy: 0.9861 - lr: 0.0010\n",
      "Epoch 13/35\n",
      "21/21 [==============================] - 3s 145ms/step - loss: 0.1676 - accuracy: 0.9383 - val_loss: 0.1634 - val_accuracy: 0.9861 - lr: 0.0010\n",
      "Epoch 14/35\n",
      "21/21 [==============================] - 3s 146ms/step - loss: 0.1592 - accuracy: 0.9414 - val_loss: 0.1631 - val_accuracy: 0.9722 - lr: 0.0010\n",
      "Epoch 15/35\n",
      "21/21 [==============================] - 3s 150ms/step - loss: 0.1688 - accuracy: 0.9383 - val_loss: 0.1573 - val_accuracy: 0.9722 - lr: 0.0010\n",
      "Epoch 16/35\n",
      "21/21 [==============================] - 3s 153ms/step - loss: 0.1644 - accuracy: 0.9352 - val_loss: 0.1531 - val_accuracy: 0.9722 - lr: 0.0010\n",
      "Epoch 17/35\n",
      "21/21 [==============================] - 3s 153ms/step - loss: 0.1574 - accuracy: 0.9429 - val_loss: 0.1495 - val_accuracy: 0.9722 - lr: 0.0010\n",
      "Epoch 18/35\n",
      "21/21 [==============================] - 3s 143ms/step - loss: 0.1541 - accuracy: 0.9460 - val_loss: 0.1505 - val_accuracy: 0.9722 - lr: 0.0010\n",
      "Epoch 19/35\n",
      "21/21 [==============================] - 3s 138ms/step - loss: 0.1637 - accuracy: 0.9352 - val_loss: 0.1542 - val_accuracy: 0.9722 - lr: 0.0010\n",
      "Epoch 20/35\n",
      "21/21 [==============================] - 3s 137ms/step - loss: 0.1561 - accuracy: 0.9444 - val_loss: 0.1561 - val_accuracy: 0.9722 - lr: 0.0010\n",
      "Epoch 21/35\n",
      "21/21 [==============================] - 3s 136ms/step - loss: 0.1488 - accuracy: 0.9414 - val_loss: 0.1553 - val_accuracy: 0.9722 - lr: 0.0010\n",
      "Epoch 22/35\n",
      "21/21 [==============================] - 3s 138ms/step - loss: 0.1403 - accuracy: 0.9506 - val_loss: 0.1563 - val_accuracy: 0.9722 - lr: 0.0010\n"
     ]
    },
    {
     "data": {
      "text/plain": [
       "<keras.callbacks.History at 0x14e827a9390>"
      ]
     },
     "execution_count": 58,
     "metadata": {},
     "output_type": "execute_result"
    }
   ],
   "source": [
    "model.fit(\n",
    "    train_generator,\n",
    "    epochs=35,\n",
    "    validation_data=validation_generator,\n",
    "    callbacks=[reduce_lr, early_stopping, model_checkpoint]\n",
    ")"
   ]
  },
  {
   "cell_type": "markdown",
   "metadata": {},
   "source": [
    "### Testing"
   ]
  },
  {
   "cell_type": "code",
   "execution_count": 59,
   "metadata": {},
   "outputs": [],
   "source": [
    "def preprocess_image(image_path):\n",
    "    img = load_img(image_path, target_size=(128, 128))  # Replace with IMG_SIZE if different\n",
    "    img_array = img_to_array(img)  # Convert the image to an array\n",
    "    img_array = img_array.astype(np.float32)  # Ensure it's in float32 format\n",
    "    img_array = (img_array / 127.5) - 1.0  # Normalize to [-1, 1]\n",
    "    img_array = np.expand_dims(img_array, axis=0)  # Add batch dimension\n",
    "    return img_array"
   ]
  },
  {
   "cell_type": "code",
   "execution_count": 60,
   "metadata": {},
   "outputs": [],
   "source": [
    "def test_model(image_path, model):\n",
    "    # Preprocess the image\n",
    "    input_data = preprocess_image(image_path)\n",
    "    \n",
    "    # Run the inference\n",
    "    prediction = model.predict(input_data)\n",
    "    \n",
    "    # Map the predicted class to the respective label\n",
    "    class_labels = {0: 'Metal', 1: 'Plastic'}\n",
    "    predicted_class = np.argmax(prediction)\n",
    "    confidence_score = np.max(prediction)\n",
    "\n",
    "    # Display the results\n",
    "    print(f\"Predicted Class: {class_labels[predicted_class]}\")\n",
    "    print(f\"Confidence Score: {confidence_score:.2f}\")\n"
   ]
  },
  {
   "cell_type": "code",
   "execution_count": 61,
   "metadata": {},
   "outputs": [
    {
     "name": "stdout",
     "output_type": "stream",
     "text": [
      "1/1 [==============================] - 0s 476ms/step\n",
      "Predicted Class: Metal\n",
      "Confidence Score: 0.81\n"
     ]
    }
   ],
   "source": [
    "# img_path = '../sample_data/metal_coke.jpg'\n",
    "# img_path = '../sample_data/plastic_bottle_partial.jpg'\n",
    "# img_path = '../../trainingData/metal/image_20240922_040431_4.jpg'\n",
    "# img_path = '../../trainingData/metal/image_20240922_034123_3.jpg'\n",
    "# img_path = '../../trainingData/plastic/image_20240922_023123_10.jpg'\n",
    "# img_path = '../../trainingData/plastic/image_20240922_031110_3.jpg'\n",
    "# img_path = '../trainingData/metalNoLid/image_20240923_024508_1.jpg'\n",
    "# img_path = '../trainingData/plasticNoLid/image_20240923_023256_1.jpg'\n",
    "\n",
    "test_model(img_path, model)"
   ]
  },
  {
   "cell_type": "markdown",
   "metadata": {},
   "source": [
    "### Save weights and convert to tflite model"
   ]
  },
  {
   "cell_type": "code",
   "execution_count": 82,
   "metadata": {},
   "outputs": [],
   "source": [
    "# model.save('fine-tuned/fine_tuned_no_Window_model.h5')"
   ]
  },
  {
   "cell_type": "code",
   "execution_count": 64,
   "metadata": {},
   "outputs": [
    {
     "name": "stderr",
     "output_type": "stream",
     "text": [
      "WARNING:absl:Function `_wrapped_model` contains input name(s) mobilenetv2_1.00_128_input with unsupported characters which will be renamed to mobilenetv2_1_00_128_input in the SavedModel.\n",
      "WARNING:absl:`mobilenetv2_1.00_128_input` is not a valid tf.function parameter name. Sanitizing to `mobilenetv2_1_00_128_input`.\n",
      "WARNING:absl:`mobilenetv2_1.00_128_input` is not a valid tf.function parameter name. Sanitizing to `mobilenetv2_1_00_128_input`.\n",
      "WARNING:absl:`mobilenetv2_1.00_128_input` is not a valid tf.function parameter name. Sanitizing to `mobilenetv2_1_00_128_input`.\n",
      "WARNING:absl:Found untraced functions such as _update_step_xla, _jit_compiled_convolution_op, _jit_compiled_convolution_op, _jit_compiled_convolution_op, _jit_compiled_convolution_op while saving (showing 5 of 53). These functions will not be directly callable after loading.\n"
     ]
    },
    {
     "name": "stdout",
     "output_type": "stream",
     "text": [
      "INFO:tensorflow:Assets written to: C:\\Users\\User\\AppData\\Local\\Temp\\tmpiy5jr2te\\assets\n"
     ]
    },
    {
     "name": "stderr",
     "output_type": "stream",
     "text": [
      "INFO:tensorflow:Assets written to: C:\\Users\\User\\AppData\\Local\\Temp\\tmpiy5jr2te\\assets\n"
     ]
    },
    {
     "name": "stdout",
     "output_type": "stream",
     "text": [
      "Model converted and saved as model.tflite\n"
     ]
    }
   ],
   "source": [
    "model = tf.keras.models.load_model('fine-tuned/fine_tuned_combined_model.h5')\n",
    "\n",
    "# Convert the model to the TFLite format\n",
    "converter = tf.lite.TFLiteConverter.from_keras_model(model)\n",
    "converter.optimizations = [tf.lite.Optimize.DEFAULT]\n",
    "\n",
    "# Convert the model\n",
    "tflite_model = converter.convert()\n",
    "\n",
    "# Save the converted model to a .tflite file\n",
    "with open('fine-tuned/fine_tuned_combined_model.tflite', 'wb') as f:\n",
    "    f.write(tflite_model)\n",
    "\n",
    "print(\"Model converted and saved as model.tflite\")"
   ]
  },
  {
   "cell_type": "markdown",
   "metadata": {},
   "source": [
    "### Test tflite model"
   ]
  },
  {
   "cell_type": "code",
   "execution_count": 44,
   "metadata": {},
   "outputs": [],
   "source": [
    "interpreter = tf.lite.Interpreter(model_path=\"fine-tuned/fine_tuned_combined_model.tflite\")\n",
    "interpreter.allocate_tensors()"
   ]
  },
  {
   "cell_type": "code",
   "execution_count": 45,
   "metadata": {},
   "outputs": [],
   "source": [
    "# Get input and output details\n",
    "input_details = interpreter.get_input_details()\n",
    "output_details = interpreter.get_output_details()"
   ]
  },
  {
   "cell_type": "code",
   "execution_count": 68,
   "metadata": {},
   "outputs": [],
   "source": [
    "# print(\"Input Details:\", input_details)\n",
    "# print(\"Output Details:\", output_details)\n",
    "\n",
    "# # Get a list of all tensor details (including intermediate layers)\n",
    "# all_tensor_details = interpreter.get_tensor_details()\n",
    "\n",
    "# # Print information about each tensor in the model\n",
    "# for layer in all_tensor_details:\n",
    "#     print(f\"Layer Name: {layer['name']}\")\n",
    "#     print(f\"  Index: {layer['index']}\")\n",
    "#     print(f\"  Shape: {layer['shape']}\")\n",
    "#     print(f\"  Data Type: {layer['dtype']}\")\n",
    "#     print()"
   ]
  },
  {
   "cell_type": "code",
   "execution_count": 46,
   "metadata": {},
   "outputs": [],
   "source": [
    "def preprocess_image(image_path):\n",
    "    # Load the image using OpenCV\n",
    "    img = cv2.imread(image_path)\n",
    "    \n",
    "    # Convert the image from BGR to RGB\n",
    "    img_rgb = cv2.cvtColor(img, cv2.COLOR_BGR2RGB)\n",
    "    \n",
    "    # Resize the image to the required dimensions\n",
    "    img_resized = cv2.resize(img_rgb, (128, 128))\n",
    "    \n",
    "    # Normalize the image to the range [0, 1] or [-1, 1] depending on what the model expects\n",
    "    img_normalized = img_resized.astype(np.float32) / 255.0  # Standard normalization [0, 1]\n",
    "    # img_normalized = (img_resized.astype(np.float32) / 127.5) - 1.0 \n",
    "    \n",
    "    # Add a batch dimension\n",
    "    img_batch = np.expand_dims(img_normalized, axis=0)\n",
    "    return img_batch"
   ]
  },
  {
   "cell_type": "code",
   "execution_count": 59,
   "metadata": {},
   "outputs": [],
   "source": [
    "# def preprocess_image(image_path):\n",
    "#     img = load_img(image_path, target_size=(IMG_SIZE, IMG_SIZE))\n",
    "#     img_array = img_to_array(img)\n",
    "#     img_array = np.expand_dims(img_array, axis=0)\n",
    "#     img_array /= 255.0 # Standard normalization to [0, 1]\n",
    "#     # img_array = (img_array / 127.5) - 1.0  # Normalize to [-1, 1]\n",
    "#     return img_array"
   ]
  },
  {
   "cell_type": "code",
   "execution_count": 28,
   "metadata": {},
   "outputs": [],
   "source": [
    "# img_path = '../sample_data/metal_coke.jpg'\n",
    "# img_path = '../sample_data/plastic_bottle_partial.jpg'\n",
    "# img_path = '../../trainingData/metal/image_20240922_040431_4.jpg'\n",
    "# img_path = '../../trainingData/metal/image_20240922_034123_3.jpg'\n",
    "# img_path = '../../trainingData/plastic/image_20240922_023123_10.jpg'\n",
    "# img_path = '../../trainingData/plastic/image_20240922_031110_3.jpg'\n",
    "# img_path = '../trainingData/metalNoLid/image_20240923_024508_1.jpg'\n",
    "img_path = '../trainingData/plasticNoLid/image_20240923_023256_1.jpg'"
   ]
  },
  {
   "cell_type": "code",
   "execution_count": 47,
   "metadata": {},
   "outputs": [
    {
     "name": "stdout",
     "output_type": "stream",
     "text": [
      "Predicted Class: Plastic, Confidence Score: 1.00\n"
     ]
    }
   ],
   "source": [
    "# Preprocess the image\n",
    "input_data = preprocess_image(img_path)\n",
    "\n",
    "# Set the input tensor\n",
    "interpreter.set_tensor(input_details[0]['index'], input_data)\n",
    "\n",
    "# Run inference\n",
    "interpreter.invoke()\n",
    "\n",
    "# Get the output tensor\n",
    "output_data = interpreter.get_tensor(output_details[0]['index'])\n",
    "predicted_class = np.argmax(output_data)\n",
    "confidence_score = np.max(output_data)\n",
    "\n",
    "class_labels = {0: 'Metal', 1: 'Plastic'}\n",
    "\n",
    "print(f\"Predicted Class: {class_labels[predicted_class]}, Confidence Score: {confidence_score:.2f}\")"
   ]
  },
  {
   "cell_type": "markdown",
   "metadata": {},
   "source": [
    "### Evaluation Metrics - TFLite Model"
   ]
  },
  {
   "cell_type": "code",
   "execution_count": 48,
   "metadata": {},
   "outputs": [],
   "source": [
    "eval_dir = \"../trainingData\"\n",
    "categories = ['testMetal', 'testPlastic']"
   ]
  },
  {
   "cell_type": "code",
   "execution_count": 49,
   "metadata": {},
   "outputs": [],
   "source": [
    "# Load image paths and true labels\n",
    "image_paths = []\n",
    "true_labels = []\n",
    "for label, category in enumerate(categories):\n",
    "    category_path = os.path.join(eval_dir, category)\n",
    "    for img_name in os.listdir(category_path):\n",
    "        image_paths.append(os.path.join(category_path, img_name))\n",
    "        true_labels.append(label)"
   ]
  },
  {
   "cell_type": "code",
   "execution_count": 50,
   "metadata": {},
   "outputs": [],
   "source": [
    "# Function to run inference on TFLite model\n",
    "def run_inference_tflite(image_path):\n",
    "    input_data = preprocess_image(image_path)\n",
    "    interpreter.set_tensor(input_details[0]['index'], input_data)\n",
    "    interpreter.invoke()\n",
    "    output_data = interpreter.get_tensor(output_details[0]['index'])\n",
    "    predicted_class = np.argmax(output_data)\n",
    "    return predicted_class"
   ]
  },
  {
   "cell_type": "code",
   "execution_count": 51,
   "metadata": {},
   "outputs": [],
   "source": [
    "predicted_labels = [run_inference_tflite(img_path) for img_path in image_paths]"
   ]
  },
  {
   "cell_type": "code",
   "execution_count": 52,
   "metadata": {},
   "outputs": [
    {
     "name": "stdout",
     "output_type": "stream",
     "text": [
      "Accuracy: 0.9833\n",
      "\n",
      "Confusion Matrix:\n",
      "[[30  0]\n",
      " [ 1 29]]\n",
      "\n",
      "Classification Report:\n",
      "              precision    recall  f1-score   support\n",
      "\n",
      "   testMetal       0.97      1.00      0.98        30\n",
      " testPlastic       1.00      0.97      0.98        30\n",
      "\n",
      "    accuracy                           0.98        60\n",
      "   macro avg       0.98      0.98      0.98        60\n",
      "weighted avg       0.98      0.98      0.98        60\n",
      "\n"
     ]
    }
   ],
   "source": [
    "# Calculate accuracy\n",
    "accuracy = accuracy_score(true_labels, predicted_labels)\n",
    "print(f\"Accuracy: {accuracy:.4f}\")\n",
    "\n",
    "# Generate confusion matrix and classification report\n",
    "conf_matrix = confusion_matrix(true_labels, predicted_labels)\n",
    "class_report = classification_report(true_labels, predicted_labels, target_names=categories)\n",
    "\n",
    "# Display confusion matrix and classification report\n",
    "print(\"\\nConfusion Matrix:\")\n",
    "print(conf_matrix)\n",
    "print(\"\\nClassification Report:\")\n",
    "print(class_report)"
   ]
  },
  {
   "cell_type": "code",
   "execution_count": 53,
   "metadata": {},
   "outputs": [
    {
     "data": {
      "image/png": "[encoded data removed]",
      "text/plain": [
       "<Figure size 1000x800 with 2 Axes>"
      ]
     },
     "metadata": {},
     "output_type": "display_data"
    }
   ],
   "source": [
    "class_labels = ['Metal', 'Plastic']\n",
    "\n",
    "# Visualize the Confusion Matrix\n",
    "plt.figure(figsize=(10, 8))\n",
    "sns.heatmap(conf_matrix, annot=True, fmt='d', cmap='Blues', \n",
    "            xticklabels=class_labels, yticklabels=class_labels)\n",
    "plt.xlabel('Predicted Labels')\n",
    "plt.ylabel('True Labels')\n",
    "plt.title('Confusion Matrix')\n",
    "plt.show()"
   ]
  }
 ],
 "metadata": {
  "kernelspec": {
   "display_name": "image-processing",
   "language": "python",
   "name": "python3"
  },
  "language_info": {
   "codemirror_mode": {
    "name": "ipython",
    "version": 3
   },
   "file_extension": ".py",
   "mimetype": "text/x-python",
   "name": "python",
   "nbconvert_exporter": "python",
   "pygments_lexer": "ipython3",
   "version": "3.11.9"
  }
 },
 "nbformat": 4,
 "nbformat_minor": 2
}
