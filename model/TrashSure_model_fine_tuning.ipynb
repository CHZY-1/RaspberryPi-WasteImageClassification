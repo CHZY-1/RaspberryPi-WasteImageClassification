{
 "cells": [
  {
   "cell_type": "markdown",
   "metadata": {},
   "source": [
    "https://github.com/TrashSure-Team/trashsure-ml-classification-model "
   ]
  },
  {
   "cell_type": "code",
   "execution_count": 87,
   "metadata": {},
   "outputs": [],
   "source": [
    "import matplotlib.pyplot as plt\n",
    "import seaborn as sns\n",
    "import numpy as np\n",
    "import tensorflow as tf\n",
    "import os\n",
    "import cv2\n",
    "\n",
    "from tensorflow.keras.preprocessing.image import img_to_array, load_img, ImageDataGenerator\n",
    "from tensorflow.keras.optimizers import Adam\n",
    "from tensorflow.keras.callbacks import ReduceLROnPlateau\n",
    "from tensorflow.keras import layers\n",
    "from sklearn.metrics import confusion_matrix, classification_report, accuracy_score"
   ]
  },
  {
   "cell_type": "code",
   "execution_count": 21,
   "metadata": {},
   "outputs": [],
   "source": [
    "IMG_SIZE = 128\n",
    "BATCH_SIZE = 32"
   ]
  },
  {
   "cell_type": "markdown",
   "metadata": {},
   "source": [
    "### Base Model Architecture"
   ]
  },
  {
   "cell_type": "code",
   "execution_count": null,
   "metadata": {},
   "outputs": [],
   "source": [
    "# MobileNetV2 Base\n",
    "def create_model():\n",
    "    base_model = tf.keras.applications.MobileNetV2(input_shape=(IMG_SIZE, IMG_SIZE, 3),\n",
    "                                                   include_top=False, weights='imagenet')\n",
    "\n",
    "# Fine-Tune the Model by adding Fully Connected Layers\n",
    "    for layer in base_model.layers[:-10]:\n",
    "        layer.trainable = False\n",
    "\n",
    "    model = tf.keras.Sequential([\n",
    "        base_model,\n",
    "        tf.keras.layers.GlobalAveragePooling2D(),\n",
    "        tf.keras.layers.Dropout(0.2),  # Add Dropout for Regularization\n",
    "        tf.keras.layers.Dense(512, activation='relu'),\n",
    "        tf.keras.layers.Dropout(0.2),  # Add Dropout for Regularization\n",
    "        tf.keras.layers.Dense(7, activation='softmax')\n",
    "    ])\n",
    "\n",
    "    return model\n",
    "\n",
    "# Create the Model\n",
    "model = create_model()\n",
    "model.compile(optimizer='Adam',\n",
    "              loss=tf.keras.losses.categorical_crossentropy, \n",
    "              metrics=[tf.keras.metrics.categorical_accuracy])\n",
    "\n",
    "model.summary()"
   ]
  },
  {
   "cell_type": "markdown",
   "metadata": {},
   "source": [
    "### Load Trained Model"
   ]
  },
  {
   "cell_type": "code",
   "execution_count": 22,
   "metadata": {},
   "outputs": [
    {
     "name": "stdout",
     "output_type": "stream",
     "text": [
      "Model: \"model_1\"\n",
      "_________________________________________________________________\n",
      " Layer (type)                Output Shape              Param #   \n",
      "=================================================================\n",
      " mobilenetv2_1.00_128_input   [(None, 128, 128, 3)]    0         \n",
      " (InputLayer)                                                    \n",
      "                                                                 \n",
      " mobilenetv2_1.00_128 (Funct  (None, 4, 4, 1280)       2257984   \n",
      " ional)                                                          \n",
      "                                                                 \n",
      " global_average_pooling2d (G  (None, 1280)             0         \n",
      " lobalAveragePooling2D)                                          \n",
      "                                                                 \n",
      " dropout (Dropout)           (None, 1280)              0         \n",
      "                                                                 \n",
      " dense (Dense)               (None, 512)               655872    \n",
      "                                                                 \n",
      " dropout_1 (Dropout)         (None, 512)               0         \n",
      "                                                                 \n",
      " dense_5 (Dense)             (None, 2)                 1026      \n",
      "                                                                 \n",
      "=================================================================\n",
      "Total params: 2,914,882\n",
      "Trainable params: 1,026\n",
      "Non-trainable params: 2,913,856\n",
      "_________________________________________________________________\n"
     ]
    }
   ],
   "source": [
    "# model = tf.keras.models.load_model('TrashSure-model.h5')\n",
    "model = tf.keras.models.load_model('fine-tuned/fine_tuned_no_Window_model.h5')\n",
    "model.summary()"
   ]
  },
  {
   "cell_type": "code",
   "execution_count": 23,
   "metadata": {},
   "outputs": [],
   "source": [
    "def preprocess_image(image_path):\n",
    "    img = load_img(image_path, target_size=(IMG_SIZE, IMG_SIZE))\n",
    "    img_array = img_to_array(img)\n",
    "    img_array = np.expand_dims(img_array, axis=0)\n",
    "    img_array /= 255.0 # Standard normalization to [0, 1]\n",
    "    # img_array = (img_array / 127.5) - 1.0  # Normalize to [-1, 1]\n",
    "    return img_array"
   ]
  },
  {
   "cell_type": "code",
   "execution_count": 29,
   "metadata": {},
   "outputs": [],
   "source": [
    "# img_path = '../sample_data/metal_coke.jpg'\n",
    "# img_path = '../sample_data/plastic_bottle_partial.jpg'\n",
    "# img_path = '../../trainingData/metal/image_20240922_040431_4.jpg'\n",
    "img_path = '../../trainingData/metal/image_20240922_034123_3.jpg'\n",
    "# img_path = '../../trainingData/plastic/image_20240922_023123_10.jpg'\n",
    "# img_path = '../../trainingData/plastic/image_20240922_031110_3.jpg'\n",
    "# img_path = '../trainingData/metalNoLid/image_20240923_024508_1.jpg'\n",
    "# img_path = '../trainingData/plasticNoLid/image_20240923_023256_1.jpg'"
   ]
  },
  {
   "cell_type": "code",
   "execution_count": 25,
   "metadata": {},
   "outputs": [],
   "source": [
    "processed_image = preprocess_image(img_path)"
   ]
  },
  {
   "cell_type": "code",
   "execution_count": 30,
   "metadata": {},
   "outputs": [
    {
     "name": "stdout",
     "output_type": "stream",
     "text": [
      "1/1 [==============================] - 0s 32ms/step\n",
      "Predicted Class: Glass\n"
     ]
    }
   ],
   "source": [
    "# Perform inference\n",
    "predictions = model.predict(processed_image)\n",
    "\n",
    "# Retrieve the predicted class\n",
    "class_indices = {'Glass': 0, 'Medical': 1, 'Metal': 2, 'Paper': 3, 'Plastic': 4, 'Textiles': 5, 'e-Waste': 6}\n",
    "predicted_class = max(class_indices, key=lambda x: class_indices[x] == np.argmax(predictions))\n",
    "\n",
    "print(f\"Predicted Class: {predicted_class}\")"
   ]
  },
  {
   "cell_type": "markdown",
   "metadata": {},
   "source": [
    "Metrics"
   ]
  },
  {
   "cell_type": "code",
   "execution_count": 38,
   "metadata": {},
   "outputs": [],
   "source": [
    "data_directory = '../trainingData'\n",
    "categories = ['metalNoWindow', 'plasticNoWindow']"
   ]
  },
  {
   "cell_type": "code",
   "execution_count": 39,
   "metadata": {},
   "outputs": [],
   "source": [
    "# Define class indices as per the model's training setup\n",
    "class_indices = {'Metal':0 , 'Plastic':1} # Fine-Tuned\n",
    "# class_indices = {'Glass': 0, 'Medical': 1, 'Metal': 2, 'Paper': 3, 'Plastic': 4, 'Textiles': 5, 'e-Waste': 6}"
   ]
  },
  {
   "cell_type": "code",
   "execution_count": 40,
   "metadata": {},
   "outputs": [
    {
     "name": "stdout",
     "output_type": "stream",
     "text": [
      "Found 180 images belonging to 2 classes.\n"
     ]
    }
   ],
   "source": [
    "test_datagen = ImageDataGenerator(rescale=1./255)\n",
    "\n",
    "# Load the test data\n",
    "test_generator = test_datagen.flow_from_directory(\n",
    "    directory=data_directory,\n",
    "    target_size=(IMG_SIZE, IMG_SIZE),\n",
    "    batch_size=BATCH_SIZE,\n",
    "    class_mode='categorical',\n",
    "    shuffle=False,\n",
    "    classes=categories\n",
    ")"
   ]
  },
  {
   "cell_type": "code",
   "execution_count": 41,
   "metadata": {},
   "outputs": [
    {
     "name": "stdout",
     "output_type": "stream",
     "text": [
      "6/6 [==============================] - 1s 118ms/step\n"
     ]
    }
   ],
   "source": [
    "# Get the true class indices from the generator\n",
    "true_labels = test_generator.classes  # True labels from the test generator (0 for metalNoLid, 1 for plasticNoLid)\n",
    "\n",
    "# Map the test generator class indices to the model's class indices\n",
    "mapped_true_labels = [class_indices['Metal'] if label == 0 else class_indices['Plastic'] for label in true_labels]\n",
    "\n",
    "predictions = model.predict(test_generator)\n",
    "predicted_labels = np.argmax(predictions, axis=1)"
   ]
  },
  {
   "cell_type": "code",
   "execution_count": 42,
   "metadata": {},
   "outputs": [],
   "source": [
    "# Identify unique classes in both true and predicted labels\n",
    "unique_classes = np.unique(np.concatenate((mapped_true_labels, predicted_labels)))\n",
    "\n",
    "# Adjust class names to match unique classes present in the results\n",
    "adjusted_class_labels = [list(class_indices.keys())[list(class_indices.values()).index(cls)] for cls in unique_classes]"
   ]
  },
  {
   "cell_type": "code",
   "execution_count": 43,
   "metadata": {},
   "outputs": [],
   "source": [
    "# Calculate overall accuracy\n",
    "accuracy = accuracy_score(mapped_true_labels, predicted_labels)\n",
    "\n",
    "# Generate confusion matrix including all possible classes\n",
    "conf_matrix = confusion_matrix(mapped_true_labels, predicted_labels, labels=unique_classes)\n",
    "\n",
    "# Generate a classification report for the predicted classes\n",
    "class_report = classification_report(mapped_true_labels, predicted_labels, target_names=adjusted_class_labels)"
   ]
  },
  {
   "cell_type": "code",
   "execution_count": 44,
   "metadata": {},
   "outputs": [
    {
     "name": "stdout",
     "output_type": "stream",
     "text": [
      "Accuracy: 0.9500\n",
      "Confusion Matrix:\n",
      "[[ 52   8]\n",
      " [  1 119]]\n",
      "Classification Report:\n",
      "              precision    recall  f1-score   support\n",
      "\n",
      "       Metal       0.98      0.87      0.92        60\n",
      "     Plastic       0.94      0.99      0.96       120\n",
      "\n",
      "    accuracy                           0.95       180\n",
      "   macro avg       0.96      0.93      0.94       180\n",
      "weighted avg       0.95      0.95      0.95       180\n",
      "\n"
     ]
    }
   ],
   "source": [
    "# Display the results\n",
    "print(f\"Accuracy: {accuracy:.4f}\")\n",
    "print(\"Confusion Matrix:\")\n",
    "print(conf_matrix)\n",
    "print(\"Classification Report:\")\n",
    "print(class_report)"
   ]
  },
  {
   "cell_type": "code",
   "execution_count": 45,
   "metadata": {},
   "outputs": [
    {
     "name": "stdout",
     "output_type": "stream",
     "text": [
      "\n",
      "Detailed Prediction Analysis:\n",
      "Correct: True Metal, Predicted Metal\n",
      "Correct: True Metal, Predicted Metal\n",
      "Correct: True Metal, Predicted Metal\n",
      "Correct: True Metal, Predicted Metal\n",
      "Correct: True Metal, Predicted Metal\n",
      "Correct: True Metal, Predicted Metal\n",
      "Correct: True Metal, Predicted Metal\n",
      "Correct: True Metal, Predicted Metal\n",
      "Correct: True Metal, Predicted Metal\n",
      "Correct: True Metal, Predicted Metal\n",
      "Correct: True Metal, Predicted Metal\n",
      "Correct: True Metal, Predicted Metal\n",
      "Correct: True Metal, Predicted Metal\n",
      "Correct: True Metal, Predicted Metal\n",
      "Correct: True Metal, Predicted Metal\n",
      "Correct: True Metal, Predicted Metal\n",
      "Correct: True Metal, Predicted Metal\n",
      "Correct: True Metal, Predicted Metal\n",
      "Correct: True Metal, Predicted Metal\n",
      "Correct: True Metal, Predicted Metal\n",
      "Correct: True Metal, Predicted Metal\n",
      "Correct: True Metal, Predicted Metal\n",
      "Correct: True Metal, Predicted Metal\n",
      "Correct: True Metal, Predicted Metal\n",
      "Incorrect: True Metal, Predicted Plastic\n",
      "Incorrect: True Metal, Predicted Plastic\n",
      "Incorrect: True Metal, Predicted Plastic\n",
      "Incorrect: True Metal, Predicted Plastic\n",
      "Correct: True Metal, Predicted Metal\n",
      "Correct: True Metal, Predicted Metal\n",
      "Correct: True Metal, Predicted Metal\n",
      "Correct: True Metal, Predicted Metal\n",
      "Correct: True Metal, Predicted Metal\n",
      "Correct: True Metal, Predicted Metal\n",
      "Correct: True Metal, Predicted Metal\n",
      "Incorrect: True Metal, Predicted Plastic\n",
      "Correct: True Metal, Predicted Metal\n",
      "Correct: True Metal, Predicted Metal\n",
      "Correct: True Metal, Predicted Metal\n",
      "Correct: True Metal, Predicted Metal\n",
      "Correct: True Metal, Predicted Metal\n",
      "Correct: True Metal, Predicted Metal\n",
      "Correct: True Metal, Predicted Metal\n",
      "Correct: True Metal, Predicted Metal\n",
      "Correct: True Metal, Predicted Metal\n",
      "Correct: True Metal, Predicted Metal\n",
      "Incorrect: True Metal, Predicted Plastic\n",
      "Correct: True Metal, Predicted Metal\n",
      "Correct: True Metal, Predicted Metal\n",
      "Correct: True Metal, Predicted Metal\n",
      "Correct: True Metal, Predicted Metal\n",
      "Correct: True Metal, Predicted Metal\n",
      "Correct: True Metal, Predicted Metal\n",
      "Correct: True Metal, Predicted Metal\n",
      "Incorrect: True Metal, Predicted Plastic\n",
      "Incorrect: True Metal, Predicted Plastic\n",
      "Correct: True Metal, Predicted Metal\n",
      "Correct: True Metal, Predicted Metal\n",
      "Correct: True Metal, Predicted Metal\n",
      "Correct: True Metal, Predicted Metal\n",
      "Correct: True Plastic, Predicted Plastic\n",
      "Correct: True Plastic, Predicted Plastic\n",
      "Correct: True Plastic, Predicted Plastic\n",
      "Correct: True Plastic, Predicted Plastic\n",
      "Correct: True Plastic, Predicted Plastic\n",
      "Correct: True Plastic, Predicted Plastic\n",
      "Correct: True Plastic, Predicted Plastic\n",
      "Incorrect: True Plastic, Predicted Metal\n",
      "Correct: True Plastic, Predicted Plastic\n",
      "Correct: True Plastic, Predicted Plastic\n",
      "Correct: True Plastic, Predicted Plastic\n",
      "Correct: True Plastic, Predicted Plastic\n",
      "Correct: True Plastic, Predicted Plastic\n",
      "Correct: True Plastic, Predicted Plastic\n",
      "Correct: True Plastic, Predicted Plastic\n",
      "Correct: True Plastic, Predicted Plastic\n",
      "Correct: True Plastic, Predicted Plastic\n",
      "Correct: True Plastic, Predicted Plastic\n",
      "Correct: True Plastic, Predicted Plastic\n",
      "Correct: True Plastic, Predicted Plastic\n",
      "Correct: True Plastic, Predicted Plastic\n",
      "Correct: True Plastic, Predicted Plastic\n",
      "Correct: True Plastic, Predicted Plastic\n",
      "Correct: True Plastic, Predicted Plastic\n",
      "Correct: True Plastic, Predicted Plastic\n",
      "Correct: True Plastic, Predicted Plastic\n",
      "Correct: True Plastic, Predicted Plastic\n",
      "Correct: True Plastic, Predicted Plastic\n",
      "Correct: True Plastic, Predicted Plastic\n",
      "Correct: True Plastic, Predicted Plastic\n",
      "Correct: True Plastic, Predicted Plastic\n",
      "Correct: True Plastic, Predicted Plastic\n",
      "Correct: True Plastic, Predicted Plastic\n",
      "Correct: True Plastic, Predicted Plastic\n",
      "Correct: True Plastic, Predicted Plastic\n",
      "Correct: True Plastic, Predicted Plastic\n",
      "Correct: True Plastic, Predicted Plastic\n",
      "Correct: True Plastic, Predicted Plastic\n",
      "Correct: True Plastic, Predicted Plastic\n",
      "Correct: True Plastic, Predicted Plastic\n",
      "Correct: True Plastic, Predicted Plastic\n",
      "Correct: True Plastic, Predicted Plastic\n",
      "Correct: True Plastic, Predicted Plastic\n",
      "Correct: True Plastic, Predicted Plastic\n",
      "Correct: True Plastic, Predicted Plastic\n",
      "Correct: True Plastic, Predicted Plastic\n",
      "Correct: True Plastic, Predicted Plastic\n",
      "Correct: True Plastic, Predicted Plastic\n",
      "Correct: True Plastic, Predicted Plastic\n",
      "Correct: True Plastic, Predicted Plastic\n",
      "Correct: True Plastic, Predicted Plastic\n",
      "Correct: True Plastic, Predicted Plastic\n",
      "Correct: True Plastic, Predicted Plastic\n",
      "Correct: True Plastic, Predicted Plastic\n",
      "Correct: True Plastic, Predicted Plastic\n",
      "Correct: True Plastic, Predicted Plastic\n",
      "Correct: True Plastic, Predicted Plastic\n",
      "Correct: True Plastic, Predicted Plastic\n",
      "Correct: True Plastic, Predicted Plastic\n",
      "Correct: True Plastic, Predicted Plastic\n",
      "Correct: True Plastic, Predicted Plastic\n",
      "Correct: True Plastic, Predicted Plastic\n",
      "Correct: True Plastic, Predicted Plastic\n",
      "Correct: True Plastic, Predicted Plastic\n",
      "Correct: True Plastic, Predicted Plastic\n",
      "Correct: True Plastic, Predicted Plastic\n",
      "Correct: True Plastic, Predicted Plastic\n",
      "Correct: True Plastic, Predicted Plastic\n",
      "Correct: True Plastic, Predicted Plastic\n",
      "Correct: True Plastic, Predicted Plastic\n",
      "Correct: True Plastic, Predicted Plastic\n",
      "Correct: True Plastic, Predicted Plastic\n",
      "Correct: True Plastic, Predicted Plastic\n",
      "Correct: True Plastic, Predicted Plastic\n",
      "Correct: True Plastic, Predicted Plastic\n",
      "Correct: True Plastic, Predicted Plastic\n",
      "Correct: True Plastic, Predicted Plastic\n",
      "Correct: True Plastic, Predicted Plastic\n",
      "Correct: True Plastic, Predicted Plastic\n",
      "Correct: True Plastic, Predicted Plastic\n",
      "Correct: True Plastic, Predicted Plastic\n",
      "Correct: True Plastic, Predicted Plastic\n",
      "Correct: True Plastic, Predicted Plastic\n",
      "Correct: True Plastic, Predicted Plastic\n",
      "Correct: True Plastic, Predicted Plastic\n",
      "Correct: True Plastic, Predicted Plastic\n",
      "Correct: True Plastic, Predicted Plastic\n",
      "Correct: True Plastic, Predicted Plastic\n",
      "Correct: True Plastic, Predicted Plastic\n",
      "Correct: True Plastic, Predicted Plastic\n",
      "Correct: True Plastic, Predicted Plastic\n",
      "Correct: True Plastic, Predicted Plastic\n",
      "Correct: True Plastic, Predicted Plastic\n",
      "Correct: True Plastic, Predicted Plastic\n",
      "Correct: True Plastic, Predicted Plastic\n",
      "Correct: True Plastic, Predicted Plastic\n",
      "Correct: True Plastic, Predicted Plastic\n",
      "Correct: True Plastic, Predicted Plastic\n",
      "Correct: True Plastic, Predicted Plastic\n",
      "Correct: True Plastic, Predicted Plastic\n",
      "Correct: True Plastic, Predicted Plastic\n",
      "Correct: True Plastic, Predicted Plastic\n",
      "Correct: True Plastic, Predicted Plastic\n",
      "Correct: True Plastic, Predicted Plastic\n",
      "Correct: True Plastic, Predicted Plastic\n",
      "Correct: True Plastic, Predicted Plastic\n",
      "Correct: True Plastic, Predicted Plastic\n",
      "Correct: True Plastic, Predicted Plastic\n",
      "Correct: True Plastic, Predicted Plastic\n",
      "Correct: True Plastic, Predicted Plastic\n",
      "Correct: True Plastic, Predicted Plastic\n",
      "Correct: True Plastic, Predicted Plastic\n",
      "Correct: True Plastic, Predicted Plastic\n",
      "Correct: True Plastic, Predicted Plastic\n",
      "Correct: True Plastic, Predicted Plastic\n",
      "Correct: True Plastic, Predicted Plastic\n",
      "Correct: True Plastic, Predicted Plastic\n",
      "Correct: True Plastic, Predicted Plastic\n",
      "Correct: True Plastic, Predicted Plastic\n",
      "Correct: True Plastic, Predicted Plastic\n",
      "\n",
      "Predictions per class:\n",
      "Metal: 53\n",
      "Plastic: 127\n"
     ]
    }
   ],
   "source": [
    "# Custom analysis for all classes\n",
    "print(\"\\nDetailed Prediction Analysis:\")\n",
    "for true_label, pred_label in zip(mapped_true_labels, predicted_labels):\n",
    "    true_class = list(class_indices.keys())[list(class_indices.values()).index(true_label)]\n",
    "    pred_class = list(class_indices.keys())[list(class_indices.values()).index(pred_label)]\n",
    "    \n",
    "    if true_label == pred_label:\n",
    "        print(f\"Correct: True {true_class}, Predicted {pred_class}\")\n",
    "    else:\n",
    "        print(f\"Incorrect: True {true_class}, Predicted {pred_class}\")\n",
    "\n",
    "# Count predictions for each class\n",
    "class_predictions = {class_name: sum(predicted_labels == class_index) \n",
    "                     for class_name, class_index in class_indices.items()}\n",
    "\n",
    "print(\"\\nPredictions per class:\")\n",
    "for class_name, count in class_predictions.items():\n",
    "    print(f\"{class_name}: {count}\")"
   ]
  },
  {
   "cell_type": "code",
   "execution_count": 47,
   "metadata": {},
   "outputs": [
    {
     "data": {
      "image/png": "[encoded data removed]",
      "text/plain": [
       "<Figure size 1000x800 with 2 Axes>"
      ]
     },
     "metadata": {},
     "output_type": "display_data"
    }
   ],
   "source": [
    "# Visualize the Confusion Matrix\n",
    "plt.figure(figsize=(10, 8))\n",
    "sns.heatmap(conf_matrix, annot=True, fmt='d', cmap='Blues', \n",
    "            xticklabels=adjusted_class_labels, yticklabels=adjusted_class_labels)\n",
    "plt.xlabel('Predicted Labels')\n",
    "plt.ylabel('True Labels')\n",
    "plt.title('Confusion Matrix')\n",
    "plt.show()"
   ]
  },
  {
   "cell_type": "markdown",
   "metadata": {},
   "source": [
    "### Fine Tuning"
   ]
  },
  {
   "cell_type": "code",
   "execution_count": 55,
   "metadata": {},
   "outputs": [
    {
     "name": "stdout",
     "output_type": "stream",
     "text": [
      "Found 162 images belonging to 2 classes.\n",
      "Found 18 images belonging to 2 classes.\n"
     ]
    }
   ],
   "source": [
    "train_dir = \"../trainingData\"\n",
    "\n",
    "# Create ImageDataGenerator for training with specific folders\n",
    "train_datagen = ImageDataGenerator(\n",
    "    rescale=1./255,\n",
    "    validation_split=0.1\n",
    ")\n",
    "\n",
    "# Define the train generator to only include metalNoWindow and plasticNoWindow\n",
    "train_generator = train_datagen.flow_from_directory(\n",
    "    directory=train_dir,\n",
    "    target_size=(IMG_SIZE, IMG_SIZE),\n",
    "    batch_size=BATCH_SIZE,\n",
    "    classes=['metalNoWindow', 'plasticNoWindow'],\n",
    "    class_mode='categorical',\n",
    "    subset='training'\n",
    ")\n",
    "\n",
    "validation_generator = train_datagen.flow_from_directory(\n",
    "    directory=train_dir,\n",
    "    target_size=(IMG_SIZE, IMG_SIZE),\n",
    "    batch_size=BATCH_SIZE,\n",
    "    classes=['metalNoWindow', 'plasticNoWindow'],\n",
    "    class_mode='categorical',\n",
    "    subset='validation'\n",
    ")"
   ]
  },
  {
   "cell_type": "markdown",
   "metadata": {},
   "source": [
    "### New Model"
   ]
  },
  {
   "cell_type": "code",
   "execution_count": 56,
   "metadata": {},
   "outputs": [
    {
     "name": "stdout",
     "output_type": "stream",
     "text": [
      "Model: \"sequential_1\"\n",
      "_________________________________________________________________\n",
      " Layer (type)                Output Shape              Param #   \n",
      "=================================================================\n",
      " mobilenetv2_1.00_128 (Funct  (None, 4, 4, 1280)       2257984   \n",
      " ional)                                                          \n",
      "                                                                 \n",
      " global_average_pooling2d_1   (None, 1280)             0         \n",
      " (GlobalAveragePooling2D)                                        \n",
      "                                                                 \n",
      " dropout_2 (Dropout)         (None, 1280)              0         \n",
      "                                                                 \n",
      " dense_2 (Dense)             (None, 512)               655872    \n",
      "                                                                 \n",
      " dropout_3 (Dropout)         (None, 512)               0         \n",
      "                                                                 \n",
      " dense_3 (Dense)             (None, 2)                 1026      \n",
      "                                                                 \n",
      "=================================================================\n",
      "Total params: 2,914,882\n",
      "Trainable params: 1,389,378\n",
      "Non-trainable params: 1,525,504\n",
      "_________________________________________________________________\n"
     ]
    }
   ],
   "source": [
    "# MobileNetV2 Base\n",
    "def create_model():\n",
    "    base_model = tf.keras.applications.MobileNetV2(\n",
    "        input_shape=(IMG_SIZE, IMG_SIZE, 3),\n",
    "        include_top=False,\n",
    "        weights='imagenet'\n",
    "    )\n",
    "\n",
    "    # Fine-Tune the Model by adding Fully Connected Layers\n",
    "    for layer in base_model.layers[:-10]:\n",
    "        layer.trainable = False\n",
    "\n",
    "    model = tf.keras.Sequential([\n",
    "        base_model,\n",
    "        tf.keras.layers.GlobalAveragePooling2D(),\n",
    "        tf.keras.layers.Dropout(0.2),  # Add Dropout for Regularization\n",
    "        tf.keras.layers.Dense(512, activation='relu'),\n",
    "        tf.keras.layers.Dropout(0.2),  # Add Dropout for Regularization\n",
    "        tf.keras.layers.Dense(2, activation='softmax')\n",
    "    ])\n",
    "\n",
    "    return model\n",
    "\n",
    "# Create the Model\n",
    "model = create_model()\n",
    "model.compile(\n",
    "    optimizer=Adam(learning_rate=0.0001),\n",
    "    loss='categorical_crossentropy',\n",
    "    metrics=['accuracy']\n",
    ")\n",
    "\n",
    "model.summary()"
   ]
  },
  {
   "cell_type": "markdown",
   "metadata": {},
   "source": [
    "### Transfer Learning"
   ]
  },
  {
   "cell_type": "code",
   "execution_count": 66,
   "metadata": {},
   "outputs": [
    {
     "name": "stdout",
     "output_type": "stream",
     "text": [
      "Model: \"sequential\"\n",
      "_________________________________________________________________\n",
      " Layer (type)                Output Shape              Param #   \n",
      "=================================================================\n",
      " mobilenetv2_1.00_128 (Funct  (None, 4, 4, 1280)       2257984   \n",
      " ional)                                                          \n",
      "                                                                 \n",
      " global_average_pooling2d (G  (None, 1280)             0         \n",
      " lobalAveragePooling2D)                                          \n",
      "                                                                 \n",
      " dropout (Dropout)           (None, 1280)              0         \n",
      "                                                                 \n",
      " dense (Dense)               (None, 512)               655872    \n",
      "                                                                 \n",
      " dropout_1 (Dropout)         (None, 512)               0         \n",
      "                                                                 \n",
      " dense_1 (Dense)             (None, 7)                 3591      \n",
      "                                                                 \n",
      "=================================================================\n",
      "Total params: 2,917,447\n",
      "Trainable params: 1,391,943\n",
      "Non-trainable params: 1,525,504\n",
      "_________________________________________________________________\n"
     ]
    }
   ],
   "source": [
    "model = tf.keras.models.load_model('TrashSure-model.h5')\n",
    "model.summary()"
   ]
  },
  {
   "cell_type": "code",
   "execution_count": 67,
   "metadata": {},
   "outputs": [
    {
     "name": "stdout",
     "output_type": "stream",
     "text": [
      "Model: \"model_1\"\n",
      "_________________________________________________________________\n",
      " Layer (type)                Output Shape              Param #   \n",
      "=================================================================\n",
      " mobilenetv2_1.00_128_input   [(None, 128, 128, 3)]    0         \n",
      " (InputLayer)                                                    \n",
      "                                                                 \n",
      " mobilenetv2_1.00_128 (Funct  (None, 4, 4, 1280)       2257984   \n",
      " ional)                                                          \n",
      "                                                                 \n",
      " global_average_pooling2d (G  (None, 1280)             0         \n",
      " lobalAveragePooling2D)                                          \n",
      "                                                                 \n",
      " dropout (Dropout)           (None, 1280)              0         \n",
      "                                                                 \n",
      " dense (Dense)               (None, 512)               655872    \n",
      "                                                                 \n",
      " dropout_1 (Dropout)         (None, 512)               0         \n",
      "                                                                 \n",
      " dense_5 (Dense)             (None, 2)                 1026      \n",
      "                                                                 \n",
      "=================================================================\n",
      "Total params: 2,914,882\n",
      "Trainable params: 1,026\n",
      "Non-trainable params: 2,913,856\n",
      "_________________________________________________________________\n"
     ]
    }
   ],
   "source": [
    "# Remove the last layer (which is Dense(7))\n",
    "model.pop()\n",
    "\n",
    "# Add a new Dense layer with 2 units (for Metal and Plastic) and softmax activation\n",
    "new_output = layers.Dense(2, activation='softmax')(model.layers[-1].output)\n",
    "\n",
    "# Create a new model\n",
    "model = tf.keras.Model(inputs=model.input, outputs=new_output)\n",
    "\n",
    "# Freeze all layers except the new output layer\n",
    "for layer in model.layers[:-1]:\n",
    "    layer.trainable = False\n",
    "\n",
    "# Check the updated structure of the model\n",
    "model.summary()"
   ]
  },
  {
   "cell_type": "code",
   "execution_count": 71,
   "metadata": {},
   "outputs": [],
   "source": [
    "model.compile(optimizer=tf.keras.optimizers.Adam(learning_rate=1e-4),\n",
    "              loss='categorical_crossentropy',\n",
    "              metrics=['accuracy'])"
   ]
  },
  {
   "cell_type": "code",
   "execution_count": 72,
   "metadata": {},
   "outputs": [],
   "source": [
    "reduce_lr = ReduceLROnPlateau(monitor='val_loss', factor=0.5, patience=5, min_lr=1e-6)"
   ]
  },
  {
   "cell_type": "code",
   "execution_count": 73,
   "metadata": {},
   "outputs": [],
   "source": [
    "data_augmentation = tf.keras.preprocessing.image.ImageDataGenerator(\n",
    "    rotation_range=15,\n",
    "    width_shift_range=0.1,\n",
    "    height_shift_range=0.1,\n",
    "    shear_range=0.1,\n",
    "    zoom_range=0.1,\n",
    "    horizontal_flip=True,\n",
    "    fill_mode='nearest'\n",
    ")"
   ]
  },
  {
   "cell_type": "code",
   "execution_count": 75,
   "metadata": {},
   "outputs": [
    {
     "name": "stdout",
     "output_type": "stream",
     "text": [
      "Epoch 1/30\n",
      "6/6 [==============================] - 1s 151ms/step - loss: 0.9009 - accuracy: 0.4691 - val_loss: 1.0446 - val_accuracy: 0.2222 - lr: 1.0000e-04\n",
      "Epoch 2/30\n",
      "6/6 [==============================] - 1s 134ms/step - loss: 0.8444 - accuracy: 0.5432 - val_loss: 0.9869 - val_accuracy: 0.2222 - lr: 1.0000e-04\n",
      "Epoch 3/30\n",
      "6/6 [==============================] - 1s 134ms/step - loss: 0.7732 - accuracy: 0.5432 - val_loss: 0.9329 - val_accuracy: 0.2222 - lr: 1.0000e-04\n",
      "Epoch 4/30\n",
      "6/6 [==============================] - 1s 155ms/step - loss: 0.8062 - accuracy: 0.5185 - val_loss: 0.8770 - val_accuracy: 0.2222 - lr: 1.0000e-04\n",
      "Epoch 5/30\n",
      "6/6 [==============================] - 1s 138ms/step - loss: 0.7491 - accuracy: 0.6111 - val_loss: 0.8304 - val_accuracy: 0.2778 - lr: 1.0000e-04\n",
      "Epoch 6/30\n",
      "6/6 [==============================] - 1s 134ms/step - loss: 0.8035 - accuracy: 0.6235 - val_loss: 0.7852 - val_accuracy: 0.2778 - lr: 1.0000e-04\n",
      "Epoch 7/30\n",
      "6/6 [==============================] - 1s 155ms/step - loss: 0.6659 - accuracy: 0.6667 - val_loss: 0.7421 - val_accuracy: 0.3333 - lr: 1.0000e-04\n",
      "Epoch 8/30\n",
      "6/6 [==============================] - 1s 135ms/step - loss: 0.6924 - accuracy: 0.6358 - val_loss: 0.7014 - val_accuracy: 0.4444 - lr: 1.0000e-04\n",
      "Epoch 9/30\n",
      "6/6 [==============================] - 1s 137ms/step - loss: 0.6024 - accuracy: 0.7099 - val_loss: 0.6637 - val_accuracy: 0.5000 - lr: 1.0000e-04\n",
      "Epoch 10/30\n",
      "6/6 [==============================] - 1s 137ms/step - loss: 0.5602 - accuracy: 0.7160 - val_loss: 0.6308 - val_accuracy: 0.6111 - lr: 1.0000e-04\n",
      "Epoch 11/30\n",
      "6/6 [==============================] - 1s 160ms/step - loss: 0.5993 - accuracy: 0.6728 - val_loss: 0.5987 - val_accuracy: 0.6667 - lr: 1.0000e-04\n",
      "Epoch 12/30\n",
      "6/6 [==============================] - 1s 136ms/step - loss: 0.5140 - accuracy: 0.7222 - val_loss: 0.5713 - val_accuracy: 0.7778 - lr: 1.0000e-04\n",
      "Epoch 13/30\n",
      "6/6 [==============================] - 1s 154ms/step - loss: 0.5086 - accuracy: 0.7284 - val_loss: 0.5485 - val_accuracy: 0.8889 - lr: 1.0000e-04\n",
      "Epoch 14/30\n",
      "6/6 [==============================] - 1s 134ms/step - loss: 0.6122 - accuracy: 0.7160 - val_loss: 0.5249 - val_accuracy: 0.8889 - lr: 1.0000e-04\n",
      "Epoch 15/30\n",
      "6/6 [==============================] - 1s 133ms/step - loss: 0.5411 - accuracy: 0.7222 - val_loss: 0.4995 - val_accuracy: 0.8889 - lr: 1.0000e-04\n",
      "Epoch 16/30\n",
      "6/6 [==============================] - 1s 134ms/step - loss: 0.5047 - accuracy: 0.7407 - val_loss: 0.4740 - val_accuracy: 0.9444 - lr: 1.0000e-04\n",
      "Epoch 17/30\n",
      "6/6 [==============================] - 1s 140ms/step - loss: 0.4698 - accuracy: 0.7593 - val_loss: 0.4507 - val_accuracy: 0.9444 - lr: 1.0000e-04\n",
      "Epoch 18/30\n",
      "6/6 [==============================] - 1s 159ms/step - loss: 0.4363 - accuracy: 0.8148 - val_loss: 0.4265 - val_accuracy: 0.9444 - lr: 1.0000e-04\n",
      "Epoch 19/30\n",
      "6/6 [==============================] - 1s 132ms/step - loss: 0.4789 - accuracy: 0.7531 - val_loss: 0.4062 - val_accuracy: 0.9444 - lr: 1.0000e-04\n",
      "Epoch 20/30\n",
      "6/6 [==============================] - 1s 137ms/step - loss: 0.4808 - accuracy: 0.7654 - val_loss: 0.3877 - val_accuracy: 0.9444 - lr: 1.0000e-04\n",
      "Epoch 21/30\n",
      "6/6 [==============================] - 1s 137ms/step - loss: 0.4472 - accuracy: 0.7654 - val_loss: 0.3701 - val_accuracy: 0.9444 - lr: 1.0000e-04\n",
      "Epoch 22/30\n",
      "6/6 [==============================] - 1s 133ms/step - loss: 0.5061 - accuracy: 0.7160 - val_loss: 0.3511 - val_accuracy: 0.9444 - lr: 1.0000e-04\n",
      "Epoch 23/30\n",
      "6/6 [==============================] - 1s 140ms/step - loss: 0.4339 - accuracy: 0.7840 - val_loss: 0.3349 - val_accuracy: 0.9444 - lr: 1.0000e-04\n",
      "Epoch 24/30\n",
      "6/6 [==============================] - 1s 163ms/step - loss: 0.4381 - accuracy: 0.7778 - val_loss: 0.3184 - val_accuracy: 0.9444 - lr: 1.0000e-04\n",
      "Epoch 25/30\n",
      "6/6 [==============================] - 1s 141ms/step - loss: 0.4496 - accuracy: 0.7840 - val_loss: 0.3044 - val_accuracy: 0.9444 - lr: 1.0000e-04\n",
      "Epoch 26/30\n",
      "6/6 [==============================] - 1s 137ms/step - loss: 0.3979 - accuracy: 0.8025 - val_loss: 0.2921 - val_accuracy: 0.9444 - lr: 1.0000e-04\n",
      "Epoch 27/30\n",
      "6/6 [==============================] - 1s 140ms/step - loss: 0.4019 - accuracy: 0.8395 - val_loss: 0.2812 - val_accuracy: 0.9444 - lr: 1.0000e-04\n",
      "Epoch 28/30\n",
      "6/6 [==============================] - 1s 166ms/step - loss: 0.3281 - accuracy: 0.8765 - val_loss: 0.2718 - val_accuracy: 0.9444 - lr: 1.0000e-04\n",
      "Epoch 29/30\n",
      "6/6 [==============================] - 1s 136ms/step - loss: 0.3352 - accuracy: 0.8704 - val_loss: 0.2625 - val_accuracy: 0.9444 - lr: 1.0000e-04\n",
      "Epoch 30/30\n",
      "6/6 [==============================] - 1s 167ms/step - loss: 0.4148 - accuracy: 0.8086 - val_loss: 0.2517 - val_accuracy: 0.9444 - lr: 1.0000e-04\n"
     ]
    },
    {
     "data": {
      "text/plain": [
       "<keras.callbacks.History at 0x2d25674a690>"
      ]
     },
     "execution_count": 75,
     "metadata": {},
     "output_type": "execute_result"
    }
   ],
   "source": [
    "model.fit(\n",
    "    train_generator,\n",
    "    epochs=30,\n",
    "    validation_data=validation_generator,\n",
    "    callbacks=[reduce_lr]\n",
    ")"
   ]
  },
  {
   "cell_type": "markdown",
   "metadata": {},
   "source": [
    "### Testing"
   ]
  },
  {
   "cell_type": "code",
   "execution_count": 76,
   "metadata": {},
   "outputs": [],
   "source": [
    "def preprocess_image(image_path):\n",
    "    img = load_img(image_path, target_size=(128, 128))  # Replace with IMG_SIZE if different\n",
    "    img_array = img_to_array(img)  # Convert the image to an array\n",
    "    img_array = img_array.astype(np.float32)  # Ensure it's in float32 format\n",
    "    img_array = (img_array / 127.5) - 1.0  # Normalize to [-1, 1]\n",
    "    img_array = np.expand_dims(img_array, axis=0)  # Add batch dimension\n",
    "    return img_array"
   ]
  },
  {
   "cell_type": "code",
   "execution_count": 77,
   "metadata": {},
   "outputs": [],
   "source": [
    "def test_model(image_path, model):\n",
    "    # Preprocess the image\n",
    "    input_data = preprocess_image(image_path)\n",
    "    \n",
    "    # Run the inference\n",
    "    prediction = model.predict(input_data)\n",
    "    \n",
    "    # Map the predicted class to the respective label\n",
    "    class_labels = {0: 'Metal', 1: 'Plastic'}\n",
    "    predicted_class = np.argmax(prediction)\n",
    "    confidence_score = np.max(prediction)\n",
    "\n",
    "    # Display the results\n",
    "    print(f\"Predicted Class: {class_labels[predicted_class]}\")\n",
    "    print(f\"Confidence Score: {confidence_score:.2f}\")\n"
   ]
  },
  {
   "cell_type": "code",
   "execution_count": 81,
   "metadata": {},
   "outputs": [
    {
     "name": "stdout",
     "output_type": "stream",
     "text": [
      "1/1 [==============================] - 0s 17ms/step\n",
      "Predicted Class: Plastic\n",
      "Confidence Score: 0.87\n"
     ]
    }
   ],
   "source": [
    "# img_path = '../sample_data/metal_coke.jpg'\n",
    "# img_path = '../sample_data/plastic_bottle_partial.jpg'\n",
    "# img_path = '../../trainingData/metal/image_20240922_040431_4.jpg'\n",
    "# img_path = '../../trainingData/metal/image_20240922_034123_3.jpg'\n",
    "# img_path = '../../trainingData/plastic/image_20240922_023123_10.jpg'\n",
    "# img_path = '../../trainingData/plastic/image_20240922_031110_3.jpg'\n",
    "# img_path = '../trainingData/metalNoLid/image_20240923_024508_1.jpg'\n",
    "# img_path = '../trainingData/plasticNoLid/image_20240923_023256_1.jpg'\n",
    "\n",
    "test_model(img_path, model)"
   ]
  },
  {
   "cell_type": "markdown",
   "metadata": {},
   "source": [
    "### Save weights and convert to tflite model"
   ]
  },
  {
   "cell_type": "code",
   "execution_count": 82,
   "metadata": {},
   "outputs": [],
   "source": [
    "model.save('fine-tuned/fine_tuned_no_Window_model.h5')"
   ]
  },
  {
   "cell_type": "code",
   "execution_count": 110,
   "metadata": {},
   "outputs": [
    {
     "name": "stderr",
     "output_type": "stream",
     "text": [
      "WARNING:absl:Function `_wrapped_model` contains input name(s) mobilenetv2_1.00_128_input with unsupported characters which will be renamed to mobilenetv2_1_00_128_input in the SavedModel.\n",
      "WARNING:absl:`mobilenetv2_1.00_128_input` is not a valid tf.function parameter name. Sanitizing to `mobilenetv2_1_00_128_input`.\n",
      "WARNING:absl:`mobilenetv2_1.00_128_input` is not a valid tf.function parameter name. Sanitizing to `mobilenetv2_1_00_128_input`.\n",
      "WARNING:absl:`mobilenetv2_1.00_128_input` is not a valid tf.function parameter name. Sanitizing to `mobilenetv2_1_00_128_input`.\n",
      "WARNING:absl:Found untraced functions such as _update_step_xla, _jit_compiled_convolution_op, _jit_compiled_convolution_op, _jit_compiled_convolution_op, _jit_compiled_convolution_op while saving (showing 5 of 53). These functions will not be directly callable after loading.\n"
     ]
    },
    {
     "name": "stdout",
     "output_type": "stream",
     "text": [
      "INFO:tensorflow:Assets written to: C:\\Users\\User\\AppData\\Local\\Temp\\tmppqiskw2h\\assets\n"
     ]
    },
    {
     "name": "stderr",
     "output_type": "stream",
     "text": [
      "INFO:tensorflow:Assets written to: C:\\Users\\User\\AppData\\Local\\Temp\\tmppqiskw2h\\assets\n"
     ]
    },
    {
     "name": "stdout",
     "output_type": "stream",
     "text": [
      "Model converted and saved as model.tflite\n"
     ]
    }
   ],
   "source": [
    "model = tf.keras.models.load_model('fine-tuned/fine_tuned_no_Window_model.h5')\n",
    "\n",
    "# Convert the model to the TFLite format\n",
    "converter = tf.lite.TFLiteConverter.from_keras_model(model)\n",
    "# Optional: Enable optimization for smaller size and faster inference\n",
    "converter.optimizations = [tf.lite.Optimize.DEFAULT]\n",
    "\n",
    "# Convert the model\n",
    "tflite_model = converter.convert()\n",
    "\n",
    "# Save the converted model to a .tflite file\n",
    "with open('fine-tuned/fine_tuned_no_Window_model.tflite', 'wb') as f:\n",
    "    f.write(tflite_model)\n",
    "\n",
    "print(\"Model converted and saved as model.tflite\")"
   ]
  },
  {
   "cell_type": "markdown",
   "metadata": {},
   "source": [
    "### Test tflite model"
   ]
  },
  {
   "cell_type": "code",
   "execution_count": 91,
   "metadata": {},
   "outputs": [],
   "source": [
    "interpreter = tf.lite.Interpreter(model_path=\"fine-tuned/fine_tuned_no_Window_model.tflite\")\n",
    "interpreter.allocate_tensors()"
   ]
  },
  {
   "cell_type": "code",
   "execution_count": 92,
   "metadata": {},
   "outputs": [],
   "source": [
    "# Get input and output details\n",
    "input_details = interpreter.get_input_details()\n",
    "output_details = interpreter.get_output_details()"
   ]
  },
  {
   "cell_type": "code",
   "execution_count": 93,
   "metadata": {},
   "outputs": [
    {
     "name": "stdout",
     "output_type": "stream",
     "text": [
      "Input Details: [{'name': 'serving_default_mobilenetv2_1.00_128_input:0', 'index': 0, 'shape': array([  1, 128, 128,   3]), 'shape_signature': array([ -1, 128, 128,   3]), 'dtype': <class 'numpy.float32'>, 'quantization': (0.0, 0), 'quantization_parameters': {'scales': array([], dtype=float32), 'zero_points': array([], dtype=int32), 'quantized_dimension': 0}, 'sparsity_parameters': {}}]\n",
      "Output Details: [{'name': 'StatefulPartitionedCall:0', 'index': 180, 'shape': array([1, 2]), 'shape_signature': array([-1,  2]), 'dtype': <class 'numpy.float32'>, 'quantization': (0.0, 0), 'quantization_parameters': {'scales': array([], dtype=float32), 'zero_points': array([], dtype=int32), 'quantized_dimension': 0}, 'sparsity_parameters': {}}]\n"
     ]
    }
   ],
   "source": [
    "print(\"Input Details:\", input_details)\n",
    "print(\"Output Details:\", output_details)\n",
    "\n",
    "# # Get a list of all tensor details (including intermediate layers)\n",
    "# all_tensor_details = interpreter.get_tensor_details()\n",
    "\n",
    "# # Print information about each tensor in the model\n",
    "# for layer in all_tensor_details:\n",
    "#     print(f\"Layer Name: {layer['name']}\")\n",
    "#     print(f\"  Index: {layer['index']}\")\n",
    "#     print(f\"  Shape: {layer['shape']}\")\n",
    "#     print(f\"  Data Type: {layer['dtype']}\")\n",
    "#     print()"
   ]
  },
  {
   "cell_type": "code",
   "execution_count": 94,
   "metadata": {},
   "outputs": [],
   "source": [
    "def preprocess_image(image_path):\n",
    "    # Load the image using OpenCV\n",
    "    img = cv2.imread(image_path)\n",
    "    \n",
    "    # Convert the image from BGR to RGB\n",
    "    img_rgb = cv2.cvtColor(img, cv2.COLOR_BGR2RGB)\n",
    "    \n",
    "    # Resize the image to the required dimensions\n",
    "    img_resized = cv2.resize(img_rgb, (128, 128))\n",
    "    \n",
    "    # Normalize the image to the range [0, 1] or [-1, 1] depending on what the model expects\n",
    "    img_normalized = img_resized.astype(np.float32) / 255.0  # Standard normalization [0, 1]\n",
    "    # img_normalized = (img_resized.astype(np.float32) / 127.5) - 1.0 \n",
    "    \n",
    "    # Add a batch dimension\n",
    "    img_batch = np.expand_dims(img_normalized, axis=0)\n",
    "    return img_batch"
   ]
  },
  {
   "cell_type": "code",
   "execution_count": 59,
   "metadata": {},
   "outputs": [],
   "source": [
    "# def preprocess_image(image_path):\n",
    "#     img = load_img(image_path, target_size=(IMG_SIZE, IMG_SIZE))\n",
    "#     img_array = img_to_array(img)\n",
    "#     img_array = np.expand_dims(img_array, axis=0)\n",
    "#     img_array /= 255.0 # Standard normalization to [0, 1]\n",
    "#     # img_array = (img_array / 127.5) - 1.0  # Normalize to [-1, 1]\n",
    "#     return img_array"
   ]
  },
  {
   "cell_type": "code",
   "execution_count": 95,
   "metadata": {},
   "outputs": [],
   "source": [
    "# img_path = '../sample_data/metal_coke.jpg'\n",
    "# img_path = '../sample_data/plastic_bottle_partial.jpg'\n",
    "img_path = '../../trainingData/metal/image_20240922_040431_4.jpg'\n",
    "# img_path = '../../trainingData/metal/image_20240922_034123_3.jpg'\n",
    "# img_path = '../../trainingData/plastic/image_20240922_023123_10.jpg'\n",
    "# img_path = '../../trainingData/plastic/image_20240922_031110_3.jpg'\n",
    "# img_path = '../trainingData/metalNoLid/image_20240923_024508_1.jpg'\n",
    "# img_path = '../trainingData/plasticNoLid/image_20240923_023256_1.jpg'"
   ]
  },
  {
   "cell_type": "code",
   "execution_count": 97,
   "metadata": {},
   "outputs": [
    {
     "name": "stdout",
     "output_type": "stream",
     "text": [
      "Predicted Class: Metal, Confidence Score: 0.87\n"
     ]
    }
   ],
   "source": [
    "# Preprocess the image\n",
    "input_data = preprocess_image(img_path)\n",
    "\n",
    "# Set the input tensor\n",
    "interpreter.set_tensor(input_details[0]['index'], input_data)\n",
    "\n",
    "# Run inference\n",
    "interpreter.invoke()\n",
    "\n",
    "# Get the output tensor\n",
    "output_data = interpreter.get_tensor(output_details[0]['index'])\n",
    "predicted_class = np.argmax(output_data)\n",
    "confidence_score = np.max(output_data)\n",
    "\n",
    "class_labels = {0: 'Metal', 1: 'Plastic'}\n",
    "\n",
    "print(f\"Predicted Class: {class_labels[predicted_class]}, Confidence Score: {confidence_score:.2f}\")"
   ]
  },
  {
   "cell_type": "markdown",
   "metadata": {},
   "source": [
    "### Evaluation Metrics - TFLite Model"
   ]
  },
  {
   "cell_type": "code",
   "execution_count": 98,
   "metadata": {},
   "outputs": [],
   "source": [
    "eval_dir = \"../trainingData\"\n",
    "categories = ['metalNoLid', 'plasticNoLid']"
   ]
  },
  {
   "cell_type": "code",
   "execution_count": 99,
   "metadata": {},
   "outputs": [],
   "source": [
    "# Load image paths and true labels\n",
    "image_paths = []\n",
    "true_labels = []\n",
    "for label, category in enumerate(categories):\n",
    "    category_path = os.path.join(eval_dir, category)\n",
    "    for img_name in os.listdir(category_path):\n",
    "        image_paths.append(os.path.join(category_path, img_name))\n",
    "        true_labels.append(label)"
   ]
  },
  {
   "cell_type": "code",
   "execution_count": 102,
   "metadata": {},
   "outputs": [],
   "source": [
    "# Function to run inference on TFLite model\n",
    "def run_inference_tflite(image_path):\n",
    "    input_data = preprocess_image(image_path)\n",
    "    interpreter.set_tensor(input_details[0]['index'], input_data)\n",
    "    interpreter.invoke()\n",
    "    output_data = interpreter.get_tensor(output_details[0]['index'])\n",
    "    predicted_class = np.argmax(output_data)\n",
    "    return predicted_class"
   ]
  },
  {
   "cell_type": "code",
   "execution_count": 103,
   "metadata": {},
   "outputs": [],
   "source": [
    "predicted_labels = [run_inference_tflite(img_path) for img_path in image_paths]"
   ]
  },
  {
   "cell_type": "code",
   "execution_count": 104,
   "metadata": {},
   "outputs": [
    {
     "name": "stdout",
     "output_type": "stream",
     "text": [
      "Accuracy: 0.8333\n",
      "\n",
      "Confusion Matrix:\n",
      "[[52  8]\n",
      " [22 98]]\n",
      "\n",
      "Classification Report:\n",
      "              precision    recall  f1-score   support\n",
      "\n",
      "  metalNoLid       0.70      0.87      0.78        60\n",
      "plasticNoLid       0.92      0.82      0.87       120\n",
      "\n",
      "    accuracy                           0.83       180\n",
      "   macro avg       0.81      0.84      0.82       180\n",
      "weighted avg       0.85      0.83      0.84       180\n",
      "\n"
     ]
    }
   ],
   "source": [
    "# Calculate accuracy\n",
    "accuracy = accuracy_score(true_labels, predicted_labels)\n",
    "print(f\"Accuracy: {accuracy:.4f}\")\n",
    "\n",
    "# Generate confusion matrix and classification report\n",
    "conf_matrix = confusion_matrix(true_labels, predicted_labels)\n",
    "class_report = classification_report(true_labels, predicted_labels, target_names=categories)\n",
    "\n",
    "# Display confusion matrix and classification report\n",
    "print(\"\\nConfusion Matrix:\")\n",
    "print(conf_matrix)\n",
    "print(\"\\nClassification Report:\")\n",
    "print(class_report)"
   ]
  },
  {
   "cell_type": "code",
   "execution_count": 105,
   "metadata": {},
   "outputs": [
    {
     "data": {
      "image/png": "[encoded data removed]",
      "text/plain": [
       "<Figure size 1000x800 with 2 Axes>"
      ]
     },
     "metadata": {},
     "output_type": "display_data"
    }
   ],
   "source": [
    "class_labels = ['Metal', 'Plastic']\n",
    "\n",
    "# Visualize the Confusion Matrix\n",
    "plt.figure(figsize=(10, 8))\n",
    "sns.heatmap(conf_matrix, annot=True, fmt='d', cmap='Blues', \n",
    "            xticklabels=class_labels, yticklabels=class_labels)\n",
    "plt.xlabel('Predicted Labels')\n",
    "plt.ylabel('True Labels')\n",
    "plt.title('Confusion Matrix')\n",
    "plt.show()"
   ]
  }
 ],
 "metadata": {
  "kernelspec": {
   "display_name": "image-processing",
   "language": "python",
   "name": "python3"
  },
  "language_info": {
   "codemirror_mode": {
    "name": "ipython",
    "version": 3
   },
   "file_extension": ".py",
   "mimetype": "text/x-python",
   "name": "python",
   "nbconvert_exporter": "python",
   "pygments_lexer": "ipython3",
   "version": "3.11.9"
  }
 },
 "nbformat": 4,
 "nbformat_minor": 2
}
